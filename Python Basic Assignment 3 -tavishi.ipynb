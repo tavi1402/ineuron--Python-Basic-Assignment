{
 "cells": [
  {
   "cell_type": "markdown",
   "id": "298f1fec",
   "metadata": {},
   "source": [
    "# 1. Why are functions advantageous to have in your programs?\n",
    "\n",
    "Ans:\n",
    "- Functions reduce the need for duplicate code. This makes programs shorter, easier to read, and easier to update. \n",
    "- Use of functions enhances the readability of a program. A big code is always difficult to read. Breaking the code in smaller Functions keeps the program organized, easy to understand and makes it reusable.\n"
   ]
  },
  {
   "cell_type": "markdown",
   "id": "c140c6a9",
   "metadata": {},
   "source": [
    "# 2. When does the code in a function run: when it's specified or when it's called?\n",
    "\n",
    "Ans:Defining a new function does not make the function run. To do that we need a function call."
   ]
  },
  {
   "cell_type": "markdown",
   "id": "52a47d3b",
   "metadata": {},
   "source": [
    "# 3. What statement creates a function?\n",
    "\n",
    "Ans: A statement that executes a function. It consists of the name of the function followed by a list of arguments enclosed in parentheses. Using the output from one function call as the input to another. A statement that creates a new function, specifying its name, parameters, and the statements it executes.\n",
    "\n",
    "The “def” keyword is a statement for defining a function in Python.The def statement defines a function.\n",
    "\n",
    "Syntax of Function:\n",
    "```\n",
    "def function_name(parameters):\n",
    "    \"\"\"doc string\"\"\"          \n",
    "    -----function body-----\n",
    "    -----function body-----\n",
    "    return value\n",
    "    \n",
    "    \n",
    "```"
   ]
  },
  {
   "cell_type": "markdown",
   "id": "c478ad3d",
   "metadata": {},
   "source": [
    "# 4. What is the difference between a function and a function call?\n",
    "\n",
    "Ans: A function is a piece of code which enhanced the reusability and modularity of your program. It means that piece of code need not be written again. A function call means invoking or calling that function. Unless a function is called there is no use of that function."
   ]
  },
  {
   "cell_type": "markdown",
   "id": "7d764ffd",
   "metadata": {},
   "source": [
    "# 5. How many global scopes are there in a Python program? How many local scopes?\n",
    "\n",
    "Ans: There are two types of variables: global variables and local variables.\n",
    "- The scope of global variables is the entire program whereas the scope of local variable is limited to the function where it is defined,and can only be used inside that function.\n",
    "\n",
    "- There's only one global Python scope and a local scope  per program execution. This scope remains in existence until the program terminates and all its names are forgotten.\n"
   ]
  },
  {
   "cell_type": "markdown",
   "id": "76579fb3",
   "metadata": {},
   "source": [
    "# 6. What happens to variables in a local scope when the function call returns?\n",
    "\n",
    "Ans: A local variable retains its value until the next time the function is called A local variable becomes undefined after the function call completes. or in otherwords When a function returns, the local scope is destroyed, and all the variables in it are forgotten.\n",
    "\n"
   ]
  },
  {
   "cell_type": "markdown",
   "id": "d1b883a0",
   "metadata": {},
   "source": [
    "# 7. What is the concept of a return value? Is it possible to have a return value in an expression?\n",
    "\n",
    "Ans:\n",
    "- In general, a function takes arguments (if any), performs some operations, and returns a value (or object).\n",
    "- The value that a function returns to the caller is generally known as the function's return value. All Python functions have a return value, either explicit or implicit."
   ]
  },
  {
   "cell_type": "markdown",
   "id": "bbfbd7c7",
   "metadata": {},
   "source": [
    "# 8. If a function does not have a return statement, what is the return value of a call to that function?\n",
    "\n",
    "Ans: If a function doesn't specify a return value, it returns None. In an if/then conditional statement, None evaluates to False.\n"
   ]
  },
  {
   "cell_type": "markdown",
   "id": "8d2ad710",
   "metadata": {},
   "source": [
    "# 9. How do you make a function variable refer to the global variable?\n",
    "\n",
    "Ans: If you want to refer to a global variable in a function, you can use the global keyword to declare which variables are global."
   ]
  },
  {
   "cell_type": "markdown",
   "id": "ade6c9bc",
   "metadata": {},
   "source": [
    "\n",
    "# 10. What is the data type of None?\n",
    "\n",
    "Ans: The data type of None is NoneType.\n",
    "\n"
   ]
  },
  {
   "cell_type": "markdown",
   "id": "59807a9c",
   "metadata": {},
   "source": [
    "# 11. What does the sentence import areallyourpetsnamederic do?\n",
    "\n",
    "Ans: That import statement imports a module named areallyourpetsnamederic.\n",
    "\n"
   ]
  },
  {
   "cell_type": "markdown",
   "id": "6e47c161",
   "metadata": {},
   "source": [
    "# 12. If you had a bacon() feature in a spam module, what would you call it after importing spam?\n",
    "\n",
    "Ans:This function can be called with spam. bacon().."
   ]
  },
  {
   "cell_type": "markdown",
   "id": "6629cb4c",
   "metadata": {},
   "source": [
    "# 13. What can you do to save a programme from crashing if it encounters an error?\n",
    "\n",
    "Ans: We can use try and except statement, When it encounters an error, the control is passed to the except block, skipping the code in between. Try running the program and it should throw an error message instead of crashing the program\n",
    "\n"
   ]
  },
  {
   "cell_type": "markdown",
   "id": "15983133",
   "metadata": {},
   "source": [
    "# 14. What is the purpose of the try clause? What is the purpose of the except clause?\n",
    "\n",
    "ANS:- \n",
    "- The try block :The try block lets you test a block of code for errors. \n",
    "- The else block :The else block lets you execute code when there is no error. The finally block lets you execute code, regardless of the result of the try- and except blocks."
   ]
  },
  {
   "cell_type": "markdown",
   "id": "d799c9a5",
   "metadata": {},
   "source": []
  }
 ],
 "metadata": {
  "kernelspec": {
   "display_name": "Python 3 (ipykernel)",
   "language": "python",
   "name": "python3"
  },
  "language_info": {
   "codemirror_mode": {
    "name": "ipython",
    "version": 3
   },
   "file_extension": ".py",
   "mimetype": "text/x-python",
   "name": "python",
   "nbconvert_exporter": "python",
   "pygments_lexer": "ipython3",
   "version": "3.9.12"
  }
 },
 "nbformat": 4,
 "nbformat_minor": 5
}
