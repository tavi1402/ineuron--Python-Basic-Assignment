{
 "cells": [
  {
   "cell_type": "markdown",
   "id": "5dae4cd0",
   "metadata": {},
   "source": [
    "## Regular Expressions\n",
    "- Regular Expressions, also known as “regex” or “regexp”, are used to match strings of text such as particular characters, words, or patterns of characters. \n",
    "- It means that we can match and extract any string pattern from the text with the help of regular expressions. I have used two terms, match and extract and both the terms have a slightly different meaning. There may be cases when we want to match a specific pattern but extract a subset of it.\n",
    "- In this case, we will match the “Dr XYZ” keyword and extract only the name, i.e. “XYZ” not the prefix “Dr.” from the list. Regex is very useful in searching through large texts, emails, and documents. Regex is also called “programming language for the string matching”."
   ]
  },
  {
   "cell_type": "markdown",
   "id": "ad3743a1",
   "metadata": {},
   "source": [
    "### 1. What is the name of the feature responsible for generating Regex objects?\n",
    "Ans: The re. compile() function returns Regex objects."
   ]
  },
  {
   "cell_type": "code",
   "execution_count": 1,
   "id": "e45a096e",
   "metadata": {},
   "outputs": [
    {
     "name": "stdout",
     "output_type": "stream",
     "text": [
      "re.compile('patterns of characters')\n"
     ]
    }
   ],
   "source": [
    "import re\n",
    "x = re.compile(\"patterns of characters\")\n",
    "type(x)\n",
    "print(x)"
   ]
  },
  {
   "cell_type": "markdown",
   "id": "89f06faa",
   "metadata": {},
   "source": [
    "### 2. Why do raw strings often appear in Regex objects?"
   ]
  },
  {
   "cell_type": "markdown",
   "id": "0d8c322f",
   "metadata": {},
   "source": [
    "Ans: \n",
    "- Raw strings are used so that backslashes do not have to be escaped.\n",
    "- Backslashes are reserved in a regular expression. Regular Expressions usually contain a lot of backslashes(\\). This collides with Python’s usage of the same character for the same purpose in string literals.When using Python's “re” module , regular expressions are represented as strings.\n",
    "-  Hence, Raw strings are used (e.g. r\"\\n\") so that backslashes do not have to be escaped."
   ]
  },
  {
   "cell_type": "markdown",
   "id": "e9ec51b8",
   "metadata": {},
   "source": [
    "### 3. What is the return value of the search() method?"
   ]
  },
  {
   "cell_type": "markdown",
   "id": "0d293933",
   "metadata": {},
   "source": [
    "Ans:\n",
    "- The re.search() function takes two parameters and returns a match object if there is a match.\n",
    "- If there is more than one match, only the first occurrence of the match will be returned. If no matches are found, the value None is returned."
   ]
  },
  {
   "cell_type": "code",
   "execution_count": 18,
   "id": "d18e9c6c",
   "metadata": {},
   "outputs": [
    {
     "data": {
      "text/plain": [
       "<re.Match object; span=(9, 12), match='fig'>"
      ]
     },
     "execution_count": 18,
     "metadata": {},
     "output_type": "execute_result"
    }
   ],
   "source": [
    "import re \n",
    "x= \"ved is a fighter pilot\"\n",
    "re.search(\"fig\",x)"
   ]
  },
  {
   "cell_type": "code",
   "execution_count": 21,
   "id": "8bb2e8c0",
   "metadata": {},
   "outputs": [
    {
     "name": "stdout",
     "output_type": "stream",
     "text": [
      "None\n"
     ]
    }
   ],
   "source": [
    "import re \n",
    "x=re.search(\"c\",\"ved is a fighter pilot\")\n",
    "print(x)"
   ]
  },
  {
   "cell_type": "markdown",
   "id": "64326760",
   "metadata": {},
   "source": [
    "### 4. From a Match item, how do you get the actual strings that match the pattern?"
   ]
  },
  {
   "cell_type": "markdown",
   "id": "f0d1a2dc",
   "metadata": {},
   "source": [
    "Ans:The group() method returns strings of the matched text."
   ]
  },
  {
   "cell_type": "code",
   "execution_count": 29,
   "id": "fe6f0eb6",
   "metadata": {},
   "outputs": [
    {
     "name": "stdout",
     "output_type": "stream",
     "text": [
      "fighter\n"
     ]
    }
   ],
   "source": [
    "#example\n",
    "import re \n",
    "x= \"ved is a fighter pilot\"\n",
    "y=re.search(\"fighter\",\"ved is a fighter pilot\")\n",
    "print(y.group())"
   ]
  },
  {
   "cell_type": "markdown",
   "id": "3a7a53bf",
   "metadata": {},
   "source": [
    "### 5. In the regex which created from the r'(\\d\\d\\d)-(\\d\\d\\d-\\d\\d\\d\\d)', what does group zero cover? Group 2? Group 1?"
   ]
  },
  {
   "cell_type": "markdown",
   "id": "4a69e4e8",
   "metadata": {},
   "source": [
    "Ans: In the Regex r'(\\d\\d\\d)-(\\d\\d\\d-\\d\\d\\d\\d)'\n",
    "- the zero group covers the entire pattern match \n",
    "- the first group cover (\\d\\d\\d) and\n",
    "- the second group cover (\\d\\d\\d-\\d\\d\\d\\d)"
   ]
  },
  {
   "cell_type": "code",
   "execution_count": 31,
   "id": "4c357e99",
   "metadata": {},
   "outputs": [
    {
     "name": "stdout",
     "output_type": "stream",
     "text": [
      "('346', '783-9876')\n",
      "346-783-9876\n",
      "346\n",
      "783-9876\n"
     ]
    }
   ],
   "source": [
    "# Example\n",
    "import re\n",
    "series_ = re.compile(r'(\\d\\d\\d)-(\\d\\d\\d-\\d\\d\\d\\d)')\n",
    "x = phoneNumRegex.search('ineuron id is 346-783-9876.')\n",
    "print(x.groups()) # Prints all groups in a tuple format\n",
    "print(x.group()) # Always returns the fully matched string \n",
    "print(x.group(1)) # Returns the first group\n",
    "print(x.group(2)) # Returns the second group"
   ]
  },
  {
   "cell_type": "markdown",
   "id": "5990e91e",
   "metadata": {},
   "source": [
    "### 6. In standard expression syntax, parentheses and intervals have distinct meanings. How can you tell a regex that you want it to fit real parentheses and periods?\n",
    "\n",
    "Ans: The \\. \\( and \\) escape characters in the raw string passed to re.compile() will match actual parenthesis characters.\n",
    "\n"
   ]
  },
  {
   "cell_type": "code",
   "execution_count": 32,
   "id": "b31fb14a",
   "metadata": {},
   "outputs": [
    {
     "name": "stdout",
     "output_type": "stream",
     "text": [
      "('346', '783-9876')\n"
     ]
    }
   ],
   "source": [
    "# Example Program\n",
    "import re\n",
    "series_ = re.compile(r'(\\d\\d\\d)-(\\d\\d\\d-\\d\\d\\d\\d)')\n",
    "x = phoneNumRegex.search('ineuron id is 346-783-9876.')\n",
    "print(x.groups())"
   ]
  },
  {
   "cell_type": "markdown",
   "id": "2be19f96",
   "metadata": {},
   "source": [
    "### 7. The findall() method returns a string list or a list of string tuples. What causes it to return one of the two options?\n",
    "\n",
    "Ans: \n",
    "- If the regex pattern has no groups, a list of strings matched is returned. \n",
    "- If the regex pattern has groups, a list of tuple of strings is returned.all groups in a tuple format"
   ]
  },
  {
   "cell_type": "code",
   "execution_count": 38,
   "id": "5651492e",
   "metadata": {},
   "outputs": [
    {
     "name": "stdout",
     "output_type": "stream",
     "text": [
      "[('(346)', '783-9876')]\n",
      "['346-783-9876']\n"
     ]
    }
   ],
   "source": [
    "\n",
    "# Example Program\n",
    "import re\n",
    "X = re.compile(r'(\\(\\d\\d\\d\\)) (\\d\\d\\d-\\d\\d\\d\\d)')\n",
    "Y = X.findall('ineuron id is (346) 783-9876.')\n",
    "print(Y)\n",
    "\n",
    "# Example Program\n",
    "X = re.compile(r'\\d{3}-\\d{3}-\\d{4}')\n",
    "Y = X.findall('ineuron id is 346-783-9876.')\n",
    "print(Y) # Prints "
   ]
  },
  {
   "cell_type": "markdown",
   "id": "0c731506",
   "metadata": {},
   "source": [
    "### 8. In standard expressions, what does the | character mean?\n",
    "\n",
    "Ans: In Standard Expressions | means OR operator."
   ]
  },
  {
   "cell_type": "markdown",
   "id": "913402ad",
   "metadata": {},
   "source": [
    "### 9. In regular expressions, what does the ? character stand for?\n",
    "\n",
    "Ans: In regular Expressions,\n",
    "- ? characters represents zero or one match of the preceeding group."
   ]
  },
  {
   "cell_type": "code",
   "execution_count": 44,
   "id": "c71a01e5",
   "metadata": {},
   "outputs": [
    {
     "name": "stdout",
     "output_type": "stream",
     "text": [
      "<re.Match object; span=(0, 7), match='fighter'>\n"
     ]
    }
   ],
   "source": [
    "# Example\n",
    "import re\n",
    "x = re.search(\"(fi)?ghter\",\"fighter pilot\")\n",
    "print(x)\n"
   ]
  },
  {
   "cell_type": "markdown",
   "id": "79ef0dd8",
   "metadata": {},
   "source": [
    "### 10.In regular expressions, what is the difference between the + and * characters?\n",
    "\n",
    "Ans: In Regular Expressions, \n",
    "- * Represents Zero ore more occurances of the preceeding group, \n",
    "- + represents one or more occurances of the preceeding group."
   ]
  },
  {
   "cell_type": "code",
   "execution_count": 48,
   "id": "629a010c",
   "metadata": {},
   "outputs": [
    {
     "name": "stdout",
     "output_type": "stream",
     "text": [
      "None\n",
      "<re.Match object; span=(2, 7), match='ghter'>\n"
     ]
    }
   ],
   "source": [
    "import re\n",
    "x = re.search(\"(fl)+ghter\",\"fighter pilot\")\n",
    "print(x)\n",
    "x = re.search(\"(fl)*ghter\",\"fighter pilot\")\n",
    "print(x)\n"
   ]
  },
  {
   "cell_type": "markdown",
   "id": "2d6410d9",
   "metadata": {},
   "source": [
    "### 11. What is the difference between {4} and {4,5} in regular expression?\n",
    "\n",
    "Ans: \n",
    "- {4} means that its preceeding group should repeat 4 times. \n",
    "- {4,5} means that its preceeding group should repeat mininum 4 times and maximum 5 times inclusively\n",
    "\n"
   ]
  },
  {
   "cell_type": "markdown",
   "id": "413c82da",
   "metadata": {},
   "source": [
    "### 12. What do you mean by the \\d, \\w, and \\s shorthand character classes signify in regular expressions?\n",
    "\n",
    "Ans:\n",
    "\\d, \\w and \\s are special sequences in regular expresssions in python:\n",
    "- \\d – Matches digit character equivalent to [0-9]\n",
    "- \\w – Matches a word character equivalent to [a-zA-Z0-9_]\n",
    "- \\s – Matches whitespace character (space, tab, newline, etc.)"
   ]
  },
  {
   "cell_type": "markdown",
   "id": "bea6d332",
   "metadata": {},
   "source": [
    "### 13. What do means by \\D, \\W, and \\S shorthand character classes signify in regular expressions?\n",
    "\n",
    "Ans:\n",
    "\\D, \\W and \\S are special sequences in regular expresssions in python:\n",
    "\n",
    "- \\D – Matches any non-digit character, this is equivalent to the set class [^0-9]\n",
    "- \\W – Matches any non-alphanumeric character equivalent to [^a-zA-Z0-9_]\n",
    "- \\S – Matches any non-whitespace character"
   ]
  },
  {
   "cell_type": "markdown",
   "id": "eb67045f",
   "metadata": {},
   "source": [
    "### 14. What is the difference between .* and .*?\n",
    "\n",
    "Ans:\n",
    "- .* is a Greedy mode, which returns the longest string that meets the condition.\n",
    "- .*? is a non greedy mode which returns the shortest string that meets the condition."
   ]
  },
  {
   "cell_type": "markdown",
   "id": "70ee1429",
   "metadata": {},
   "source": [
    "### 15. What is the syntax for matching both numbers and lowercase letters with a character class?\n",
    "\n",
    "Ans: The Synatax is Either [a-z0-9] or [0-9a-z]"
   ]
  },
  {
   "cell_type": "markdown",
   "id": "75c82e0c",
   "metadata": {},
   "source": [
    "### 16. What is the procedure for making a normal expression in regax case insensitive?\n",
    "\n",
    "Ans: We can pass re.IGNORECASE as a flag to make a noraml expression case insensitive"
   ]
  },
  {
   "cell_type": "markdown",
   "id": "dc6d2297",
   "metadata": {},
   "source": [
    "### 17. What does the . character normally match? What does it match if re.DOTALL is passed as 2nd argument in re.compile()?\n",
    "\n",
    "Ans: Dot . character matches everything in input except newline character .. By passing re.DOTALL as a flag to re.compile(), you can make the dot character match all characters, including the newline character."
   ]
  },
  {
   "cell_type": "markdown",
   "id": "6452501f",
   "metadata": {},
   "source": [
    "### 18. If numReg = re.compile(r'\\d+'), what will numRegex.sub('X', '11 drummers, 10 pipers, five rings, 4 hen') return?\n",
    "\n",
    "Ans: The Ouput will be 'X drummers, X pipers, five rings, X hen'"
   ]
  },
  {
   "cell_type": "code",
   "execution_count": 2,
   "id": "6332ffbf",
   "metadata": {},
   "outputs": [
    {
     "data": {
      "text/plain": [
       "'X drummers, X pipers, five rings, X hen'"
      ]
     },
     "execution_count": 2,
     "metadata": {},
     "output_type": "execute_result"
    }
   ],
   "source": [
    "import re\n",
    "numReg = re.compile(r'\\d+')\n",
    "numReg.sub('X', '11 drummers, 10 pipers, five rings, 4 hen')"
   ]
  },
  {
   "cell_type": "markdown",
   "id": "64f95052",
   "metadata": {},
   "source": [
    "### 19. What does passing re.VERBOSE as the 2nd argument to re.compile() allow to do?\n",
    "\n",
    "Ans: \n",
    "- re. VERBOSE : This flag allows you to write regular expressions that look nicer and are more readable by allowing you to visually separate logical sections of the pattern and add comments.\n",
    "- re.VERBOSE will allow to add whitespace and comments to string passed to re.compile()."
   ]
  },
  {
   "cell_type": "code",
   "execution_count": 8,
   "id": "864dbca6",
   "metadata": {},
   "outputs": [],
   "source": [
    "import re\n",
    "# Without Using VERBOSE\n",
    "phoneRegex = re.compile(r'((\\d{3}|\\(\\d{3}\\))?(\\s|-|\\.)?\\d{3}(\\s|-|\\.)\\d{4}(\\s*(ext|x|ext.)\\s*\\d{2,5})?)')\n",
    "\n",
    "'''That look’s really messy and it’s hard to read.\n",
    "We can actually use VERBOSE mode and spread the regex over multiple lines with comments like this:\n",
    "\n",
    "'''\n",
    "\n",
    "\n",
    "# Using VERBOSE\n",
    "phoneRegex = re.compile(r'''(\n",
    "    (\\d{3}|\\(\\d{3}\\))?            # area code\n",
    "    (\\s|-|\\.)?                    # separator\n",
    "    \\d{3}                         # first 3 digits\n",
    "    (\\s|-|\\.)                     # separator\n",
    "    \\d{4}                         # last 4 digits\n",
    "    (\\s*(ext|x|ext.)\\s*\\d{2,5})?  # extension\n",
    "    )''', re.VERBOSE)\n"
   ]
  },
  {
   "cell_type": "markdown",
   "id": "24e00eb3",
   "metadata": {},
   "source": [
    "### 20. How would you write a regex that match a number with comma for every three digits? It must match the given following:\n",
    "\n",
    "Ans:\n",
    "'42','1,234', '6,368,745'but not the following: '12,34,567' (which has only two digits between the commas) '1234' (which lacks commas)"
   ]
  },
  {
   "cell_type": "code",
   "execution_count": 14,
   "id": "54d1fa09",
   "metadata": {},
   "outputs": [
    {
     "name": "stdout",
     "output_type": "stream",
     "text": [
      "Output: 42 -> <re.Match object; span=(0, 2), match='42'>\n",
      "Output: 1,234 -> <re.Match object; span=(0, 5), match='1,234'>\n",
      "Output: 6,368,745 -> <re.Match object; span=(0, 9), match='6,368,745'>\n",
      "Output: 12,34,567 -> None\n",
      "Output: 1234 -> None\n"
     ]
    }
   ],
   "source": [
    "import re\n",
    "patt_ = r'^\\d{1,3}(,\\d{3})*$'\n",
    "compile_= re.compile(patt_)\n",
    "for i in ['42','1,234', '6,368,745','12,34,567','1234']:\n",
    "    print('Output:',i, '->', compile_.search(i))"
   ]
  },
  {
   "cell_type": "markdown",
   "id": "083174ed",
   "metadata": {},
   "source": [
    "### 21. How would you write a regex that matches the full name of someone whose last name is Watanabe? You can assume that the first name that comes before it will always be one word that begins with a capital letter. The regex must match the following:\n",
    "\n",
    "'Haruto Watanabe'\n",
    "'Alice Watanabe'\n",
    "'RoboCop Watanabe'\n",
    "\n",
    "but not the following:\n",
    "\n",
    "'haruto Watanabe' (where the first name is not capitalized)\n",
    "'Mr. Watanabe' (where the preceding word has a nonletter character)\n",
    "'Watanabe' (which has no first name)\n",
    "'Haruto watanabe' (where Watanabe is not capitalized)\n",
    "\n",
    "Ans: pattern = r'[A-Z]{1}[a-z]*\\sWatanabe'"
   ]
  },
  {
   "cell_type": "code",
   "execution_count": 15,
   "id": "ae6541fc",
   "metadata": {},
   "outputs": [
    {
     "name": "stdout",
     "output_type": "stream",
     "text": [
      "Output:  Haruto Watanabe -> <re.Match object; span=(0, 15), match='Haruto Watanabe'>\n",
      "Output:  Alice Watanabe -> <re.Match object; span=(0, 14), match='Alice Watanabe'>\n",
      "Output:  RoboCop Watanabe -> <re.Match object; span=(4, 16), match='Cop Watanabe'>\n",
      "Output:  haruto Watanabe -> None\n",
      "Output:  Mr. Watanabe -> None\n",
      "Output:  Watanabe -> None\n",
      "Output:  Haruto watanabe -> None\n"
     ]
    }
   ],
   "source": [
    "import re\n",
    "pattern = r'[A-Z]{1}[a-z]*\\sWatanabe'\n",
    "name_ = re.compile(pattern)\n",
    "for i in ['Haruto Watanabe','Alice Watanabe','RoboCop Watanabe','haruto Watanabe','Mr. Watanabe','Watanabe','Haruto watanabe']:\n",
    "    print('Output: ',i,'->',name_.search(i))"
   ]
  },
  {
   "cell_type": "markdown",
   "id": "a89e6061",
   "metadata": {},
   "source": [
    "### 22. How would you write a regex that matches a sentence where the first word is either Alice, Bob,or Carol; the second word is either eats, pets, or throws; the third word is apples, cats, or baseballs; and the sentence ends with a period? This regex should be case-insensitive. It must match the following:\n",
    "\n",
    "'Alice eats apples.'\n",
    "'Bob pets cats.'\n",
    "'Carol throws baseballs.'\n",
    "'Alice throws Apples.'\n",
    "'BOB EATS CATS.'\n",
    "\n",
    "but not the following:\n",
    "\n",
    "'RoboCop eats apples.'\n",
    "'ALICE THROWS FOOTBALLS.'\n",
    "'Carol eats 7 cats.'\n",
    "\n",
    "Ans: pattern = r'(Alice|Bob|Carol)\\s(eats|pets|throws)\\s(apples|cats|baseballs)\\.'"
   ]
  },
  {
   "cell_type": "code",
   "execution_count": 16,
   "id": "fea50ce6",
   "metadata": {},
   "outputs": [
    {
     "name": "stdout",
     "output_type": "stream",
     "text": [
      "Output:  Alice eats apples. -> <re.Match object; span=(0, 18), match='Alice eats apples.'>\n",
      "Output:  Bob pets cats. -> <re.Match object; span=(0, 14), match='Bob pets cats.'>\n",
      "Output:  Carol throws baseballs. -> <re.Match object; span=(0, 23), match='Carol throws baseballs.'>\n",
      "Output:  Alice throws Apples. -> <re.Match object; span=(0, 20), match='Alice throws Apples.'>\n",
      "Output:  BOB EATS CATS. -> <re.Match object; span=(0, 14), match='BOB EATS CATS.'>\n",
      "Output:  RoboCop eats apples. -> None\n",
      "Output:  ALICE THROWS FOOTBALLS. -> None\n",
      "Output:  Carol eats 7 cats. -> None\n"
     ]
    }
   ],
   "source": [
    "import re\n",
    "pattern = r'(Alice|Bob|Carol)\\s(eats|pets|throws)\\s(apples|cats|baseballs)\\.'\n",
    "case_ = re.compile(pattern,re.IGNORECASE)\n",
    "for i in ['Alice eats apples.','Bob pets cats.','Carol throws baseballs.','Alice throws Apples.','BOB EATS CATS.','RoboCop eats apples.'\n",
    ",'ALICE THROWS FOOTBALLS.','Carol eats 7 cats.']:\n",
    "    print('Output: ',i,'->',case_.search(i))"
   ]
  },
  {
   "cell_type": "code",
   "execution_count": null,
   "id": "74771c21",
   "metadata": {},
   "outputs": [],
   "source": []
  }
 ],
 "metadata": {
  "kernelspec": {
   "display_name": "Python 3 (ipykernel)",
   "language": "python",
   "name": "python3"
  },
  "language_info": {
   "codemirror_mode": {
    "name": "ipython",
    "version": 3
   },
   "file_extension": ".py",
   "mimetype": "text/x-python",
   "name": "python",
   "nbconvert_exporter": "python",
   "pygments_lexer": "ipython3",
   "version": "3.9.12"
  }
 },
 "nbformat": 4,
 "nbformat_minor": 5
}
