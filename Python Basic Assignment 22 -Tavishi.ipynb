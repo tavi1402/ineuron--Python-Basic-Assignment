{
 "cells": [
  {
   "cell_type": "markdown",
   "id": "liberal-account",
   "metadata": {},
   "source": [
    "    \n",
    "## 1. What is the result of the code, and explain?\n",
    "```\n",
    ">>> X = 'iNeuron'\n",
    ">>> def func():\n",
    "print(X)\n",
    ">>> func()\n",
    "```\n",
    "\n",
    "### Ans- \n",
    "- The line, func() Call the function we defined which prints the value of X.\n",
    "\n",
    "    \n"
   ]
  },
  {
   "cell_type": "code",
   "execution_count": 2,
   "id": "9f4f9c8a",
   "metadata": {},
   "outputs": [],
   "source": [
    "X = 'iNeuron'\n",
    "def func():\n",
    "    print (X)"
   ]
  },
  {
   "cell_type": "code",
   "execution_count": 3,
   "id": "ac0f9e30",
   "metadata": {},
   "outputs": [
    {
     "name": "stdout",
     "output_type": "stream",
     "text": [
      "iNeuron\n"
     ]
    }
   ],
   "source": [
    "func()"
   ]
  },
  {
   "cell_type": "markdown",
   "id": "sharing-council",
   "metadata": {},
   "source": [
    "## 2.What is the result of the code, and explain?\n",
    "```\n",
    ">>> X = 'iNeuron'\n",
    ">>> def func():\n",
    "X = 'NI!'\n",
    ">>> func()\n",
    ">>> print(X)\n",
    "\n",
    "```\n",
    "\n",
    "### Ans- \n",
    "\n",
    "- The line, func() Call the function we defined, with \"NI\" as the value of X inside the funtion, but doesn't prints it, as there is no print statement inside the function.\n",
    "\n",
    "- The line, print(X), prints the value of X, which is \"iNeuron\", which is outside func().\n",
    "\n",
    "    \n"
   ]
  },
  {
   "cell_type": "code",
   "execution_count": 1,
   "id": "06c4597b",
   "metadata": {},
   "outputs": [],
   "source": [
    "X = 'iNeuron'\n",
    "def func():\n",
    "    X = 'NI!'\n",
    "func()"
   ]
  },
  {
   "cell_type": "code",
   "execution_count": 2,
   "id": "7106785f",
   "metadata": {},
   "outputs": [
    {
     "name": "stdout",
     "output_type": "stream",
     "text": [
      "iNeuron\n"
     ]
    }
   ],
   "source": [
    "print(X)"
   ]
  },
  {
   "cell_type": "markdown",
   "id": "acute-talent",
   "metadata": {},
   "source": [
    "## 3.What does this code print, and why?\n",
    "```\n",
    ">>> X = 'iNeuron'\n",
    ">>> def func():\n",
    "X = 'NI'\n",
    "print(X)\n",
    ">>> func()\n",
    ">>> print(X)\n",
    "```\n",
    "### Ans-\n",
    "- The line, func() Call the function we defined which prints the value of X, which is \"NI\" inside the funtion.\n",
    "- The line, print(X), prints the value of X, which is \"iNeuron\", which is outside func()."
   ]
  },
  {
   "cell_type": "code",
   "execution_count": 11,
   "id": "a65bc2eb",
   "metadata": {},
   "outputs": [
    {
     "name": "stdout",
     "output_type": "stream",
     "text": [
      "NI!\n"
     ]
    }
   ],
   "source": [
    "X = 'iNeuron'\n",
    "def func():\n",
    "    X = 'NI!'\n",
    "    print (X)\n",
    "func()"
   ]
  },
  {
   "cell_type": "code",
   "execution_count": 12,
   "id": "764baee6",
   "metadata": {},
   "outputs": [
    {
     "name": "stdout",
     "output_type": "stream",
     "text": [
      "iNeuron\n"
     ]
    }
   ],
   "source": [
    "print(X)"
   ]
  },
  {
   "cell_type": "markdown",
   "id": "outdoor-setup",
   "metadata": {},
   "source": [
    "## 4.What output does this code produce? Why?\n",
    "```\n",
    ">>> X = 'iNeuron'\n",
    ">>> def func():\n",
    "global X\n",
    "X = 'NI'\n",
    ">>> func()\n",
    ">>> print(X)\n",
    "```\n",
    "    \n",
    "### Ans- \n",
    "- The line, func() Call the function we defined, with \"NI\" as the value of X inside the funtion, but doesn't prints it, as there is no print statement inside the function, and we have used global keyword, which means, global keyword allows us to modify the variable, that is \"X\", outside of the current function.\n",
    "    \n",
    "\n",
    "- The line, print(X), prints the value of X, which is now \"NI\", as we used global keyword inside the function."
   ]
  },
  {
   "cell_type": "code",
   "execution_count": 14,
   "id": "a1a94d8e",
   "metadata": {},
   "outputs": [],
   "source": [
    "X = 'iNeuron'\n",
    "def func():\n",
    "    global X\n",
    "    X = \"NI\"\n",
    "func()"
   ]
  },
  {
   "cell_type": "code",
   "execution_count": 15,
   "id": "c32d7d53",
   "metadata": {},
   "outputs": [
    {
     "name": "stdout",
     "output_type": "stream",
     "text": [
      "NI\n"
     ]
    }
   ],
   "source": [
    "print(X)"
   ]
  },
  {
   "cell_type": "markdown",
   "id": "caring-viewer",
   "metadata": {},
   "source": [
    "## 5. What about this code—what’s the output, and why?\n",
    "```    \n",
    ">>> X = 'iNeuron'\n",
    ">>> def func():\n",
    "X = 'NI'\n",
    "def nested():\n",
    "print(X)\n",
    "nested()\n",
    ">>> func()\n",
    ">>> X\n",
    "```"
   ]
  },
  {
   "cell_type": "code",
   "execution_count": 3,
   "id": "06ad58e7",
   "metadata": {},
   "outputs": [
    {
     "name": "stdout",
     "output_type": "stream",
     "text": [
      "iNeuron\n"
     ]
    }
   ],
   "source": [
    "X = 'iNeuron'\n",
    "def func():\n",
    "    X = \"NI\"\n",
    "def nested():\n",
    "    print(X)\n",
    "nested()"
   ]
  },
  {
   "cell_type": "code",
   "execution_count": 4,
   "id": "4bd9b5a9",
   "metadata": {},
   "outputs": [],
   "source": [
    "func()"
   ]
  },
  {
   "cell_type": "code",
   "execution_count": 24,
   "id": "01de79d1",
   "metadata": {},
   "outputs": [
    {
     "data": {
      "text/plain": [
       "'iNeuron'"
      ]
     },
     "execution_count": 24,
     "metadata": {},
     "output_type": "execute_result"
    }
   ],
   "source": [
    "X"
   ]
  },
  {
   "cell_type": "markdown",
   "id": "complimentary-cabinet",
   "metadata": {},
   "source": [
    "## 6. How about this code: what is its output in Python 3, and explain?\n",
    "\n",
    "```\n",
    ">>> def func():\n",
    "X = 'NI'\n",
    "def nested():\n",
    "nonlocal X\n",
    "X = 'Spam'\n",
    "nested()\n",
    "print(X)\n",
    ">>> func()\n",
    "```\n",
    "    \n",
    "### Ans-\n",
    "\n",
    "The nonlocal keyword is used to work with variables inside nested functions, where the variable should not belong to the inner function.Use the keyword nonlocal to declare that the variable is not local.\n",
    "\n",
    "    \n"
   ]
  },
  {
   "cell_type": "code",
   "execution_count": 5,
   "id": "3a58bbc1",
   "metadata": {},
   "outputs": [],
   "source": [
    "def func():\n",
    "    X = 'NI'\n",
    "    def nested():\n",
    "        nonlocal X\n",
    "        X = 'Spam'\n",
    "    nested()"
   ]
  },
  {
   "cell_type": "code",
   "execution_count": 6,
   "id": "928f9e40",
   "metadata": {},
   "outputs": [
    {
     "name": "stdout",
     "output_type": "stream",
     "text": [
      "iNeuron\n"
     ]
    }
   ],
   "source": [
    "print(X)"
   ]
  },
  {
   "cell_type": "code",
   "execution_count": 44,
   "id": "b0041b6b",
   "metadata": {},
   "outputs": [],
   "source": [
    "func()"
   ]
  },
  {
   "cell_type": "code",
   "execution_count": 36,
   "id": "0f749856",
   "metadata": {},
   "outputs": [
    {
     "name": "stdout",
     "output_type": "stream",
     "text": [
      "hello\n"
     ]
    }
   ],
   "source": [
    "print(myfunc1())"
   ]
  }
 ],
 "metadata": {
  "kernelspec": {
   "display_name": "Python 3 (ipykernel)",
   "language": "python",
   "name": "python3"
  },
  "language_info": {
   "codemirror_mode": {
    "name": "ipython",
    "version": 3
   },
   "file_extension": ".py",
   "mimetype": "text/x-python",
   "name": "python",
   "nbconvert_exporter": "python",
   "pygments_lexer": "ipython3",
   "version": "3.9.12"
  },
  "toc": {
   "base_numbering": 1,
   "nav_menu": {},
   "number_sections": true,
   "sideBar": true,
   "skip_h1_title": false,
   "title_cell": "Table of Contents",
   "title_sidebar": "Contents",
   "toc_cell": false,
   "toc_position": {},
   "toc_section_display": true,
   "toc_window_display": false
  }
 },
 "nbformat": 4,
 "nbformat_minor": 5
}
