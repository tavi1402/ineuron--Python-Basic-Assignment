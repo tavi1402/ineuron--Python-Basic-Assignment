{
 "cells": [
  {
   "cell_type": "markdown",
   "id": "d5faef4a",
   "metadata": {},
   "source": [
    "### 1.What does an empty dictionary's code look like?\n",
    "Ans:\n",
    "- An empty dictionary is often represented by two empty curly brackets\n",
    "- d = {} or \n",
    "- d = dict()"
   ]
  },
  {
   "cell_type": "markdown",
   "id": "f60b8f57",
   "metadata": {},
   "source": [
    "### 2.what is the value of dictionary value with key 'foo' and the value 42 \n",
    "Ans: {'foo':42}"
   ]
  },
  {
   "cell_type": "markdown",
   "id": "68691f63",
   "metadata": {},
   "source": [
    "### 3.What is the most significant distinction between a dictionary and a list?\n",
    "\n",
    "Ans:\n",
    "- The main difference is that items in dictionaries are accessed via keys and not via their position.\n",
    "- Dictionaries are represented by {} where as listed are represented by []\n",
    "- The Items stored in a dictionary are Unordered , while the items in a list are ordered."
   ]
  },
  {
   "cell_type": "markdown",
   "id": "a6242488",
   "metadata": {},
   "source": [
    "### 4.What happens if you try to access spam ['foo'] if spam is {'bar':100} ?\n",
    "\n",
    "Ans: we will get a keyError KeyError: 'foo'"
   ]
  },
  {
   "cell_type": "code",
   "execution_count": 43,
   "id": "4c9d19b4",
   "metadata": {},
   "outputs": [
    {
     "ename": "KeyError",
     "evalue": "'foo'",
     "output_type": "error",
     "traceback": [
      "\u001b[0;31m---------------------------------------------------------------------------\u001b[0m",
      "\u001b[0;31mKeyError\u001b[0m                                  Traceback (most recent call last)",
      "Input \u001b[0;32mIn [43]\u001b[0m, in \u001b[0;36m<cell line: 2>\u001b[0;34m()\u001b[0m\n\u001b[1;32m      1\u001b[0m spam \u001b[38;5;241m=\u001b[39m {\u001b[38;5;124m'\u001b[39m\u001b[38;5;124mbar\u001b[39m\u001b[38;5;124m'\u001b[39m:\u001b[38;5;241m100\u001b[39m} \n\u001b[0;32m----> 2\u001b[0m \u001b[43mspam\u001b[49m\u001b[43m[\u001b[49m\u001b[38;5;124;43m'\u001b[39;49m\u001b[38;5;124;43mfoo\u001b[39;49m\u001b[38;5;124;43m'\u001b[39;49m\u001b[43m]\u001b[49m\n",
      "\u001b[0;31mKeyError\u001b[0m: 'foo'"
     ]
    }
   ],
   "source": [
    "spam = {'bar':100} \n",
    "spam['foo'] "
   ]
  },
  {
   "cell_type": "markdown",
   "id": "3429bf37",
   "metadata": {},
   "source": [
    "### 5.If a dictionary is stored in spam,what is the difference between the expressions 'cat' in spam and 'cat' in spam.keys() ?\n",
    "\n",
    "Ans: There is no difference. The in operator checks whether a value exists as a key in the dictionary. 'cat' in spam checks whether there is a 'cat' key in the dictionary, while 'cat' in spam."
   ]
  },
  {
   "cell_type": "code",
   "execution_count": 44,
   "id": "e2c9bb0e",
   "metadata": {},
   "outputs": [
    {
     "data": {
      "text/plain": [
       "False"
      ]
     },
     "execution_count": 44,
     "metadata": {},
     "output_type": "execute_result"
    }
   ],
   "source": [
    "spam={'animal':'cat'}\n",
    "'cat' in spam  # checks whether a value exists as a key in the dictionary."
   ]
  },
  {
   "cell_type": "code",
   "execution_count": 45,
   "id": "63da899b",
   "metadata": {},
   "outputs": [
    {
     "data": {
      "text/plain": [
       "False"
      ]
     },
     "execution_count": 45,
     "metadata": {},
     "output_type": "execute_result"
    }
   ],
   "source": [
    "'cat' in spam.keys() # checks there is a 'cat' key in the dictionary."
   ]
  },
  {
   "cell_type": "markdown",
   "id": "b7cf341e",
   "metadata": {},
   "source": [
    "### 6.if a dictionary is stored in spam,what is the difference between the expressions 'cat' in spam and 'cat' in spam.values() ?\n",
    "\n",
    "Ans:'cat' in spam checks whether there is a 'cat' key in the dictionary, while 'cat' in spam.values() checks whether there is a value 'cat' for one of the keys in spam."
   ]
  },
  {
   "cell_type": "code",
   "execution_count": 46,
   "id": "6e1afb8f",
   "metadata": {},
   "outputs": [
    {
     "data": {
      "text/plain": [
       "False"
      ]
     },
     "execution_count": 46,
     "metadata": {},
     "output_type": "execute_result"
    }
   ],
   "source": [
    "spam={'animal':'cat'} #'cat' in spam checks whether there is a 'cat' key in the dictionary\n",
    "'cat' in spam "
   ]
  },
  {
   "cell_type": "code",
   "execution_count": 47,
   "id": "819741f1",
   "metadata": {},
   "outputs": [
    {
     "data": {
      "text/plain": [
       "True"
      ]
     },
     "execution_count": 47,
     "metadata": {},
     "output_type": "execute_result"
    }
   ],
   "source": [
    "'cat' in spam.values() # check is there a value 'cat' for one of the keys in spam."
   ]
  },
  {
   "cell_type": "markdown",
   "id": "e38967be",
   "metadata": {},
   "source": [
    "### 7.what is a shortcut for the following code ?\n",
    "\n",
    "if 'color' not in spam:\n",
    "    spam['color'] ='black'\n",
    "\n",
    "Ans: spam.setdefault('color','black')"
   ]
  },
  {
   "cell_type": "code",
   "execution_count": 48,
   "id": "bb48e43d",
   "metadata": {},
   "outputs": [
    {
     "data": {
      "text/plain": [
       "False"
      ]
     },
     "execution_count": 48,
     "metadata": {},
     "output_type": "execute_result"
    }
   ],
   "source": [
    "spam={'animal':'cat'}\n",
    "'color' in spam"
   ]
  },
  {
   "cell_type": "code",
   "execution_count": 49,
   "id": "a011a179",
   "metadata": {},
   "outputs": [],
   "source": [
    "spam['color'] ='black'"
   ]
  },
  {
   "cell_type": "code",
   "execution_count": 50,
   "id": "069c7053",
   "metadata": {},
   "outputs": [
    {
     "data": {
      "text/plain": [
       "{'animal': 'cat', 'color': 'black'}"
      ]
     },
     "execution_count": 50,
     "metadata": {},
     "output_type": "execute_result"
    }
   ],
   "source": [
    "spam"
   ]
  },
  {
   "cell_type": "code",
   "execution_count": 51,
   "id": "4d7edfa9",
   "metadata": {},
   "outputs": [
    {
     "data": {
      "text/plain": [
       "'black'"
      ]
     },
     "execution_count": 51,
     "metadata": {},
     "output_type": "execute_result"
    }
   ],
   "source": [
    "spam={'animal':'cat'} \n",
    "spam.setdefault('color','black')"
   ]
  },
  {
   "cell_type": "code",
   "execution_count": 52,
   "id": "1ae536ca",
   "metadata": {},
   "outputs": [
    {
     "data": {
      "text/plain": [
       "{'animal': 'cat', 'color': 'black'}"
      ]
     },
     "execution_count": 52,
     "metadata": {},
     "output_type": "execute_result"
    }
   ],
   "source": [
    "spam"
   ]
  },
  {
   "cell_type": "markdown",
   "id": "26aad92f",
   "metadata": {},
   "source": [
    "### 8.How do you 'pretty print' dictionary values using which modules and function ?"
   ]
  },
  {
   "cell_type": "markdown",
   "id": "d41d94df",
   "metadata": {},
   "source": [
    "Ans :\n",
    "\n",
    "We can pretty print a dictionary using three functions.\n",
    "\n",
    "- 1. by using pprint() function of pprint module.(Note: pprint() function doesnot prettify nested dictionaries)\n",
    "- 2. by using dumps() method of json module\n",
    "- 3. by using dumps() method of yaml module"
   ]
  },
  {
   "cell_type": "markdown",
   "id": "88312285",
   "metadata": {},
   "source": [
    "### 1.By using pprint() function of pprint module.\n",
    "\n",
    "- pprint is a Python module that provides the capability to pretty print Python data types to be more readable. This module also supports pretty-printing dictionary.\n",
    "\n",
    "- Within the pprint module there is a function with the same name pprint(), which is the function used to pretty-print the given string or object.\n",
    "\n",
    "- First, declare an array of dictionaries. Afterward, pretty print it using the function pprint.pprint()."
   ]
  },
  {
   "cell_type": "code",
   "execution_count": 53,
   "id": "541baf85",
   "metadata": {},
   "outputs": [
    {
     "name": "stdout",
     "output_type": "stream",
     "text": [
      "[{'Age': '29', 'Country': 'India', 'Name': 'Sanna'},\n",
      " {'Age': '30', 'Country': 'Austria', 'Name': 'erica'},\n",
      " {'Age': '29', 'Country': 'China', 'Name': 'vineet'},\n",
      " {'Age': '24', 'Country': 'NY', 'Name': 'kavin '}]\n"
     ]
    }
   ],
   "source": [
    "import pprint\n",
    "\n",
    "dct_arr = [\n",
    "  {'Name': 'Sanna', 'Age': '29', 'Country': 'India'},\n",
    "  {'Name': 'erica', 'Age': '30', 'Country': 'Austria'},\n",
    "  {'Name': 'vineet', 'Age': '29', 'Country': 'China'},\n",
    "  {'Name': 'kavin ', 'Age': '24', 'Country': 'NY'}\n",
    "]\n",
    "\n",
    "pprint.pprint(dct_arr)\n"
   ]
  },
  {
   "cell_type": "code",
   "execution_count": 54,
   "id": "48661e05",
   "metadata": {},
   "outputs": [
    {
     "name": "stdout",
     "output_type": "stream",
     "text": [
      "[{'Name': 'Sanna', 'Age': '29', 'Country': 'India'}, {'Name': 'erica', 'Age': '30', 'Country': 'Austria'}, {'Name': 'vineet', 'Age': '29', 'Country': 'China'}, {'Name': 'kavin ', 'Age': '24', 'Country': 'NY'}]\n"
     ]
    }
   ],
   "source": [
    "print(dct_arr)  #normal print statemnt"
   ]
  },
  {
   "cell_type": "markdown",
   "id": "ab75c41e",
   "metadata": {},
   "source": [
    "### 2.By using dumps() method of json module."
   ]
  },
  {
   "cell_type": "markdown",
   "id": "236d3572",
   "metadata": {},
   "source": [
    "- Within the Python json module, there is a function called dumps(), which converts a Python object into a JSON string. \n",
    "\n",
    "- The dumps() function accepts 3 parameters used for pretty printing: \n",
    "1. the object for conversion,\n",
    "2. a boolean value sort_keys, which determines whether the entries should be sorted by key,\n",
    "3. and indent, which specifies the number of spaces for indentation.\n",
    "\n",
    "- We will use the same example dictionary as above for this solution. sort_keys is set to False to disable sorting, and indent is set to 3 spaces."
   ]
  },
  {
   "cell_type": "code",
   "execution_count": 55,
   "id": "c477133f",
   "metadata": {},
   "outputs": [
    {
     "name": "stdout",
     "output_type": "stream",
     "text": [
      "[\n",
      "   {\n",
      "      \"Name\": \"Sanna\",\n",
      "      \"Age\": \"29\",\n",
      "      \"Country\": \"India\"\n",
      "   },\n",
      "   {\n",
      "      \"Name\": \"erica\",\n",
      "      \"Age\": \"30\",\n",
      "      \"Country\": \"Austria\"\n",
      "   },\n",
      "   {\n",
      "      \"Name\": \"vineet\",\n",
      "      \"Age\": \"29\",\n",
      "      \"Country\": \"China\"\n",
      "   },\n",
      "   {\n",
      "      \"Name\": \"kavin \",\n",
      "      \"Age\": \"24\",\n",
      "      \"Country\": \"NY\"\n",
      "   }\n",
      "]\n"
     ]
    }
   ],
   "source": [
    "import json\n",
    "\n",
    "dct_arr = [\n",
    "  {'Name': 'Sanna', 'Age': '29', 'Country': 'India'},\n",
    "  {'Name': 'erica', 'Age': '30', 'Country': 'Austria'},\n",
    "  {'Name': 'vineet', 'Age': '29', 'Country': 'China'},\n",
    "  {'Name': 'kavin ', 'Age': '24', 'Country': 'NY'}\n",
    "]\n",
    "\n",
    "\n",
    "print(json.dumps(dct_arr, sort_keys=False, indent=3))"
   ]
  },
  {
   "cell_type": "markdown",
   "id": "b04e635c",
   "metadata": {},
   "source": [
    "### Comparing pprint.pprint(),json.dumps\n",
    "- Compared to the output of the pprint() function, this is much more readable, although it costs more lines since it’s in pretty JSON format.\n",
    "- Evidently, pretty JSON nested dictionaries are supported using json.dump(), and visually it looks clean and very readable even if it’s nested."
   ]
  },
  {
   "cell_type": "code",
   "execution_count": 56,
   "id": "99c4f1b9",
   "metadata": {},
   "outputs": [
    {
     "name": "stdout",
     "output_type": "stream",
     "text": [
      "[{'Age': '29', 'Country': 'India', 'Name': 'Sanna'},\n",
      " {'Age': '30', 'Country': 'Austria', 'Name': 'erica'},\n",
      " {'Age': '29', 'Country': 'China', 'Name': 'vineet'},\n",
      " {'Age': '24', 'Country': 'NY', 'Name': 'kavin '}]\n",
      "[\n",
      "   {\n",
      "      \"Name\": \"Sanna\",\n",
      "      \"Age\": \"29\",\n",
      "      \"Country\": \"India\"\n",
      "   },\n",
      "   {\n",
      "      \"Name\": \"erica\",\n",
      "      \"Age\": \"30\",\n",
      "      \"Country\": \"Austria\"\n",
      "   },\n",
      "   {\n",
      "      \"Name\": \"vineet\",\n",
      "      \"Age\": \"29\",\n",
      "      \"Country\": \"China\"\n",
      "   },\n",
      "   {\n",
      "      \"Name\": \"kavin \",\n",
      "      \"Age\": \"24\",\n",
      "      \"Country\": \"NY\"\n",
      "   }\n",
      "]\n"
     ]
    }
   ],
   "source": [
    "pprint.pprint(dct_arr)\n",
    "print(json.dumps(dct_arr, sort_keys=False, indent=3))"
   ]
  },
  {
   "cell_type": "markdown",
   "id": "a7e19f11",
   "metadata": {},
   "source": [
    "### 3.By using dumps() method of yaml module."
   ]
  },
  {
   "cell_type": "markdown",
   "id": "6fed8669",
   "metadata": {},
   "source": [
    "- Another way to pretty print a dictionary is by using the dump() function of the yaml module. It serves the same purpose as the json.dumps() function but in YAML format instead of JSON.\n"
   ]
  },
  {
   "cell_type": "code",
   "execution_count": 57,
   "id": "8e13518d",
   "metadata": {},
   "outputs": [
    {
     "name": "stdout",
     "output_type": "stream",
     "text": [
      "Requirement already satisfied: pyyaml in /Applications/anaconda3/lib/python3.9/site-packages (6.0)\r\n"
     ]
    }
   ],
   "source": [
    "# First off, install the YAML module using pip:\n",
    "!pip install pyyaml"
   ]
  },
  {
   "cell_type": "code",
   "execution_count": 58,
   "id": "bf21efc7",
   "metadata": {},
   "outputs": [
    {
     "name": "stdout",
     "output_type": "stream",
     "text": [
      "- Name: Sanna\n",
      "  Age: '29'\n",
      "  Country: India\n",
      "- Name: erica\n",
      "  Age: '30'\n",
      "  Country: Austria\n",
      "- Name: vineet\n",
      "  Age: '29'\n",
      "  Country: China\n",
      "- Name: 'kavin '\n",
      "  Age: '24'\n",
      "  Country: NY\n",
      "\n"
     ]
    }
   ],
   "source": [
    "import yaml\n",
    "\n",
    "dct_arr = [\n",
    "  {'Name': 'Sanna', 'Age': '29', 'Country': 'India'},\n",
    "  {'Name': 'erica', 'Age': '30', 'Country': 'Austria'},\n",
    "  {'Name': 'vineet', 'Age': '29', 'Country': 'China'},\n",
    "  {'Name': 'kavin ', 'Age': '24', 'Country': 'NY'}\n",
    "]\n",
    "\n",
    "print(yaml.dump(dct_arr, sort_keys=False, default_flow_style=False))\n"
   ]
  },
  {
   "cell_type": "markdown",
   "id": "445bf1fe",
   "metadata": {},
   "source": [
    "## Comparing  pprint.pprint(), jsons.dumps(),yaml.dump\n",
    "\n",
    "IMPORTANT POINTS: \n",
    "- In summary,the YAML dump() function is more readable than the JSON dumps(). \n",
    "- It’s up to personal preference or what type of output is required. \n",
    "- Both functions beat the output of pprint when it comes to more complex data structures or nested objects."
   ]
  },
  {
   "cell_type": "code",
   "execution_count": 59,
   "id": "02ccb2e9",
   "metadata": {},
   "outputs": [
    {
     "name": "stdout",
     "output_type": "stream",
     "text": [
      "[{'Age': '29', 'Country': 'India', 'Name': 'Sanna'},\n",
      " {'Age': '30', 'Country': 'Austria', 'Name': 'erica'},\n",
      " {'Age': '29', 'Country': 'China', 'Name': 'vineet'},\n",
      " {'Age': '24', 'Country': 'NY', 'Name': 'kavin '}]\n",
      "[\n",
      "   {\n",
      "      \"Name\": \"Sanna\",\n",
      "      \"Age\": \"29\",\n",
      "      \"Country\": \"India\"\n",
      "   },\n",
      "   {\n",
      "      \"Name\": \"erica\",\n",
      "      \"Age\": \"30\",\n",
      "      \"Country\": \"Austria\"\n",
      "   },\n",
      "   {\n",
      "      \"Name\": \"vineet\",\n",
      "      \"Age\": \"29\",\n",
      "      \"Country\": \"China\"\n",
      "   },\n",
      "   {\n",
      "      \"Name\": \"kavin \",\n",
      "      \"Age\": \"24\",\n",
      "      \"Country\": \"NY\"\n",
      "   }\n",
      "]\n",
      "- Name: Sanna\n",
      "  Age: '29'\n",
      "  Country: India\n",
      "- Name: erica\n",
      "  Age: '30'\n",
      "  Country: Austria\n",
      "- Name: vineet\n",
      "  Age: '29'\n",
      "  Country: China\n",
      "- Name: 'kavin '\n",
      "  Age: '24'\n",
      "  Country: NY\n",
      "\n"
     ]
    }
   ],
   "source": [
    "pprint.pprint(dct_arr)\n",
    "print(json.dumps(dct_arr, sort_keys=False, indent=3))\n",
    "print(yaml.dump(dct_arr, sort_keys=False, default_flow_style=False))"
   ]
  }
 ],
 "metadata": {
  "kernelspec": {
   "display_name": "Python 3 (ipykernel)",
   "language": "python",
   "name": "python3"
  },
  "language_info": {
   "codemirror_mode": {
    "name": "ipython",
    "version": 3
   },
   "file_extension": ".py",
   "mimetype": "text/x-python",
   "name": "python",
   "nbconvert_exporter": "python",
   "pygments_lexer": "ipython3",
   "version": "3.9.12"
  }
 },
 "nbformat": 4,
 "nbformat_minor": 5
}
