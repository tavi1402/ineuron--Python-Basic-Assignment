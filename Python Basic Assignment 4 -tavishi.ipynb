{
 "cells": [
  {
   "cell_type": "markdown",
   "id": "61f93096",
   "metadata": {},
   "source": [
    "### 1.What exactly is [ ]?\n",
    "\n",
    "Ans: \n",
    "- [] is an empty list.\n",
    "- The empty list represented by [] is a list that contains no items. This is similar to '' which represents an empty string\n",
    "\n"
   ]
  },
  {
   "cell_type": "markdown",
   "id": "32624745",
   "metadata": {},
   "source": [
    "###  2. In a list of values stored in a variable called spam, how would you assign the value 'hello' as the third value? (Assume [2, 4, 6, 8, 10] are in spam.)\n",
    "\n",
    "Ans:\n",
    "- Lists follows zero based indexing\n",
    "- spam[3]='hello'   "
   ]
  },
  {
   "cell_type": "code",
   "execution_count": 1,
   "id": "a3bc76d8",
   "metadata": {},
   "outputs": [
    {
     "name": "stdout",
     "output_type": "stream",
     "text": [
      "[2, 4, 6, 8, 10]\n",
      "[2, 4, 6, 'hello', 10]\n"
     ]
    }
   ],
   "source": [
    "# Example\n",
    "spam= [2, 4, 6, 8, 10]\n",
    "print(spam)\n",
    "spam[3]='hello' \n",
    "print(spam)"
   ]
  },
  {
   "cell_type": "markdown",
   "id": "0898a69c",
   "metadata": {},
   "source": [
    "### Let's pretend the spam includes the list ['a','b','c',d'] for the next three queries."
   ]
  },
  {
   "cell_type": "markdown",
   "id": "22831336",
   "metadata": {},
   "source": [
    "### 3. What is the value of spam[int(int('3'*2)//11)] ?\n",
    "\n",
    "Ans: 'd' \n",
    "- '3'(STRING) * 2 -----> '33', which is passed to int() before being divided by 11. The ans will be 3.\n",
    "- spam[3] is equal to 'd'"
   ]
  },
  {
   "cell_type": "code",
   "execution_count": 3,
   "id": "63941a31",
   "metadata": {},
   "outputs": [
    {
     "data": {
      "text/plain": [
       "'d'"
      ]
     },
     "execution_count": 3,
     "metadata": {},
     "output_type": "execute_result"
    }
   ],
   "source": [
    "spam=['a','b','c','d'] \n",
    "spam[int(int('3'*2)//11)]"
   ]
  },
  {
   "cell_type": "markdown",
   "id": "6ced96b8",
   "metadata": {},
   "source": [
    "### 4. What is the value of spam[-1]?\n",
    "\n",
    "Ans:\n",
    "- Lists support Negative indexing\n",
    "- spam[-1] returs 'd'"
   ]
  },
  {
   "cell_type": "code",
   "execution_count": 4,
   "id": "112759f9",
   "metadata": {},
   "outputs": [
    {
     "data": {
      "text/plain": [
       "'d'"
      ]
     },
     "execution_count": 4,
     "metadata": {},
     "output_type": "execute_result"
    }
   ],
   "source": [
    "spam[-1]"
   ]
  },
  {
   "cell_type": "markdown",
   "id": "ae8bf06c",
   "metadata": {},
   "source": [
    "### 5. What is the value of spam[:2]?\n",
    "\n",
    "Ans: spam[:2] returns all elements in the list spam from 0 to 2 excluding 2\n",
    "\n"
   ]
  },
  {
   "cell_type": "code",
   "execution_count": 5,
   "id": "9cb6065a",
   "metadata": {},
   "outputs": [
    {
     "name": "stdout",
     "output_type": "stream",
     "text": [
      "['a', 'b', 'c', 'd']\n"
     ]
    },
    {
     "data": {
      "text/plain": [
       "['a', 'b']"
      ]
     },
     "execution_count": 5,
     "metadata": {},
     "output_type": "execute_result"
    }
   ],
   "source": [
    "print(spam)\n",
    "spam[:2]"
   ]
  },
  {
   "cell_type": "markdown",
   "id": "f12b2ee7",
   "metadata": {},
   "source": [
    "### Let's pretend bacon has the list [3.14,'cat',11,'cat',True] for the next three question"
   ]
  },
  {
   "cell_type": "markdown",
   "id": "cff82841",
   "metadata": {},
   "source": [
    "###6. What is the value of bacon.index('cat')?\n",
    "Ans: \n",
    "- index method returns the index of first occuerence of 'cat'\n",
    "- The value of bacon.index('cat') is 1\n"
   ]
  },
  {
   "cell_type": "code",
   "execution_count": 8,
   "id": "8a130edb",
   "metadata": {},
   "outputs": [
    {
     "name": "stdout",
     "output_type": "stream",
     "text": [
      "bacon.index('cat') is  1\n"
     ]
    }
   ],
   "source": [
    "bacon=[3.14,'cat',11,'cat',True]\n",
    "print(\"bacon.index('cat') is \",bacon.index('cat'))"
   ]
  },
  {
   "cell_type": "markdown",
   "id": "90de738a",
   "metadata": {},
   "source": [
    "### 7. How does bacon.append(99) change the look of the list value in bacon?\n",
    "\n",
    "Ans:\n",
    "- The append() method in python adds a single item to the existing list.\n",
    "- It doesn't return a new list of items but will modify the original list by adding the item to the end of the list. \n",
    "- After executing the method append on the list the size of the list increases by one\n"
   ]
  },
  {
   "cell_type": "code",
   "execution_count": 9,
   "id": "61def71b",
   "metadata": {},
   "outputs": [
    {
     "name": "stdout",
     "output_type": "stream",
     "text": [
      "[3.14, 'cat', 11, 'cat', True]\n",
      "[3.14, 'cat', 11, 'cat', True, 99]\n"
     ]
    }
   ],
   "source": [
    "# Example\n",
    "print(bacon)\n",
    "bacon.append(99) \n",
    "print(bacon)"
   ]
  },
  {
   "cell_type": "markdown",
   "id": "6763aab6",
   "metadata": {},
   "source": [
    "### 8. How does bacon.remove('cat') change the look of the list in bacon?\n",
    "\n",
    "Ans: \n",
    "- The Remove Module is a built-in list method that allows you to delete values in a list.\n",
    "- It deletes the first occurrence of a value in a sequence, i.e., it won't erase all the instances if exist in the list.\n",
    "- or in short - The remove() method removes the first matching element (which is passed as an argument) from the list."
   ]
  },
  {
   "cell_type": "code",
   "execution_count": 12,
   "id": "0244b57d",
   "metadata": {},
   "outputs": [
    {
     "name": "stdout",
     "output_type": "stream",
     "text": [
      "[3.14, 11, 'cat', True]\n"
     ]
    }
   ],
   "source": [
    "bacon=[3.14,'cat',11,'cat',True]\n",
    "bacon.remove('cat')\n",
    "print(bacon) # removed the first occurance of cat "
   ]
  },
  {
   "cell_type": "markdown",
   "id": "4c4d4de7",
   "metadata": {},
   "source": [
    "### 9.what are the list concatenation and list replication operations?\n",
    "\n",
    "Ans: The operator for list concatenation is +, while the operator for replication is *. (This is the same as for strings.)"
   ]
  },
  {
   "cell_type": "code",
   "execution_count": 8,
   "id": "4bccf674",
   "metadata": {},
   "outputs": [
    {
     "name": "stdout",
     "output_type": "stream",
     "text": [
      "['SANNA', 'VED', 'TAVI', 'JJ', 'JYOTI', 'KIRAN', 'VIN']\n",
      "['JYOTI', 'KIRAN', 'VIN', 'JYOTI', 'KIRAN', 'VIN']\n"
     ]
    }
   ],
   "source": [
    "list_1 = ['SANNA','VED','TAVI','JJ']\n",
    "list_2 = ['JYOTI','KIRAN','VIN']\n",
    "print(list_1 + list_2) # List Concatenation\n",
    "print(list_2*2) # List Replication"
   ]
  },
  {
   "cell_type": "markdown",
   "id": "055069f8",
   "metadata": {},
   "source": [
    "### 10. what is the difference between the list method append() and insert()?\n",
    "\n",
    "Ans: \n",
    "\n",
    "- The difference is that with append--> you just add a new entry at the end of the list. \n",
    "- With insert(position, new_entry) you can create a new entry exactly in the position you want.\n",
    "- Inshort -append() will add values only to the end of a list, insert() can add them anywhere in the list."
   ]
  },
  {
   "cell_type": "code",
   "execution_count": 15,
   "id": "be6d9852",
   "metadata": {},
   "outputs": [
    {
     "name": "stdout",
     "output_type": "stream",
     "text": [
      "['SANNA', 'VED', 'TAVI', 'JJ', 'vineet']\n",
      "['SANNA', 'VED', '7', 'TAVI', 'JJ', 'vineet']\n"
     ]
    }
   ],
   "source": [
    "#Examples\n",
    "list_1 = ['SANNA','VED','TAVI','JJ']\n",
    "list_1.append('vineet')\n",
    "print(list_1)\n",
    "list_1.insert(2,'7')\n",
    "print(list_1)"
   ]
  },
  {
   "cell_type": "markdown",
   "id": "4ed237ad",
   "metadata": {},
   "source": [
    "### 11. What are the two methods for removing items from a list?\n",
    "\n",
    "Ans:\n",
    "- 1.The pop() method removes an element from the list based on the index given. \n",
    "- 2.The clear() method will remove all the elements present in the list.\n",
    "- 3.The remove() method\n",
    "- 4.Items of the list can be deleted using del statement by specifying the index of item (element) to be deleted."
   ]
  },
  {
   "cell_type": "markdown",
   "id": "2fcf5598",
   "metadata": {},
   "source": [
    "### 12. Describe how list values and string values are identical.\n",
    "\n",
    "Ans: \n",
    "- The values that make up a list are called its elements. Lists are similar to strings, which are ordered collections of characters, except that the elements of a list can have any type and for any one list, the items can be of different types.\n",
    "- Both lists and strings can be passed to len() function, have indexes and slices, be used in for loops, be concatenated or replicated, and be used with the in and not in operators."
   ]
  },
  {
   "cell_type": "markdown",
   "id": "1615b555",
   "metadata": {},
   "source": [
    "### 13. What's the difference between tuples and lists?\n",
    "\n",
    "Ans: \n",
    "- Lists are Mutable, Indexable and Slicable. they can have values added, removed, or changed.lists are represented using square brackets, [].\n",
    "- Tuples are Immutable but Indexable and Slicable. the tuple values cannot be changed at all. Also, tuples are represented using parentheses, ()."
   ]
  },
  {
   "cell_type": "markdown",
   "id": "2aa07278",
   "metadata": {},
   "source": [
    "### 14. How do you type a tuple value that only contains the integer 42?\n",
    "\n",
    "Ans:(42,) (The trailing comma is mandatory. otherwise its considered as a int by python Interpreter)"
   ]
  },
  {
   "cell_type": "code",
   "execution_count": 16,
   "id": "ef70dfc3",
   "metadata": {},
   "outputs": [
    {
     "name": "stdout",
     "output_type": "stream",
     "text": [
      "<class 'int'>\n",
      "<class 'tuple'>\n"
     ]
    }
   ],
   "source": [
    "tuple1=(42)\n",
    "tuple2=(42,)\n",
    "print(type(tuple1))\n",
    "print(type(tuple2))\n"
   ]
  },
  {
   "cell_type": "markdown",
   "id": "e0fddfa3",
   "metadata": {},
   "source": [
    "### 15. How do you get a list value's tuple form? How do you get a tuple value's list form?\n",
    "\n",
    "Ans: \n",
    "- The tuple() and list() functions, respectively are used to convert a list to tuple and vice versa.\n",
    "- we can get a tuple value's list form\n",
    "```\n",
    "Method 1: Using zip() function.\n",
    "Method 2: Using zip() and iter() method.\n",
    "Method 3: using map() function.\n",
    "Method 4: Using list comprehension and tuple() method.```\n"
   ]
  },
  {
   "cell_type": "markdown",
   "id": "0d7b536f",
   "metadata": {},
   "source": [
    "### 16. Variables that \"contain\" list values are not necessarily lists themselves. Instead, what do they contain?\n",
    "\n",
    "Ans: variables will contain references to list values rather than list values themselves. But for strings and integer values, variables simply contain the string or integer value.\n"
   ]
  },
  {
   "cell_type": "markdown",
   "id": "c9a2725f",
   "metadata": {},
   "source": [
    "### 17. How do you distinguish between copy.copy() and copy.deepcopy()?\n",
    "\n",
    "Ans: \n",
    "- copy() create reference to original object. If you change copied object - you change the original object. -\n",
    "- deepcopy() creates new object and does real copying of original object to new one. Changing new deepcopied object doesn't affect original object."
   ]
  }
 ],
 "metadata": {
  "kernelspec": {
   "display_name": "Python 3 (ipykernel)",
   "language": "python",
   "name": "python3"
  },
  "language_info": {
   "codemirror_mode": {
    "name": "ipython",
    "version": 3
   },
   "file_extension": ".py",
   "mimetype": "text/x-python",
   "name": "python",
   "nbconvert_exporter": "python",
   "pygments_lexer": "ipython3",
   "version": "3.9.12"
  }
 },
 "nbformat": 4,
 "nbformat_minor": 5
}
