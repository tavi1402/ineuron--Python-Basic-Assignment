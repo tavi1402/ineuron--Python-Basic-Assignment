{
 "cells": [
  {
   "cell_type": "markdown",
   "id": "6f6e0f37",
   "metadata": {},
   "source": [
    "1. In the below elements which of them are values or an expression? eg:- values can be integer or string and expressions will be mathematical operators.\n",
    "* \n",
    "'hello'\n",
    "-87.8\n",
    "- \n",
    "/ \n",
    "+\t\n",
    "6 \n",
    "\n",
    "Ans1 - \n",
    "\n",
    "\n",
    "values- 'hello',-87.8,6 \n",
    "\n",
    "expressions- *, -, /, +"
   ]
  },
  {
   "cell_type": "markdown",
   "id": "e9a81561",
   "metadata": {},
   "source": [
    "2. What is the difference between string and variable?\n",
    "\n",
    "Ans- \n",
    "\n",
    "string - string is a data type , Python does not have a character data type, string is a character or the sequence of characters enclosed in the quotes(singl qoutes or double qoutes \n",
    "Example -\"sanna\" or 'sanna'\n",
    "\n",
    "\n",
    "variable- Variables are containers for storing data values in it\n",
    "\n",
    "Example sanna= \"sanna\"\n",
    "Here sanna is variable which is storing a value of string datatype \n",
    "and \"sanna\" is string \n"
   ]
  },
  {
   "cell_type": "markdown",
   "id": "89167371",
   "metadata": {},
   "source": [
    "3.  Describe three different data types.\n",
    "\n",
    "Ans- \n",
    "\n",
    "\n",
    "Data types- integer, float, Boolean, string, list, dictonary ,tuple\n",
    "\n",
    "1 integer- Whole numbers\n",
    "\n",
    "example- 2,3,5,7,87,8\n",
    "\n",
    "2 Float- Decimal Numbers  \n",
    "\n",
    "example- 3.4,2.1,5.9\n",
    "\n",
    "\n",
    "3 Boolean - Truth values that represent yes/no\n",
    "\n",
    "example- True , False\n",
    "  \n"
   ]
  },
  {
   "cell_type": "markdown",
   "id": "30956486",
   "metadata": {},
   "source": [
    "4. What is an expression made up of? What do all expressions do? \n",
    "\n",
    "Ans - \n",
    "\n",
    "\n",
    "Expression - An expression is a combination of operators and operands(values) and always evaluates down to a single value.\n",
    "\n",
    "example - 4+5       (4,5 are operands, + operator )\n",
    "output- (9) \n"
   ]
  },
  {
   "cell_type": "markdown",
   "id": "aee60324",
   "metadata": {},
   "source": [
    " 5. This assignment statements, like spam = 10. What is the difference between an expression and a statement\n",
    "\n",
    "Ans - \n",
    "\n",
    "\n",
    "A statement that assigns a value to a name (variable). Here spam is  variable , = is assignment operator\n",
    "and 10 is values which is assigned to the variable spam\n",
    "\n",
    "\n",
    "difference between statement and expression\n",
    "\n",
    "statement is a complete line of code that perform some actions or command, \n",
    "example - print(\"sanna\"), python execute it \n",
    "\n",
    "and expression is combination of operator and operand which evaluate value ,\n",
    "example - (9+8*4) , python evaluate it. "
   ]
  },
  {
   "cell_type": "markdown",
   "id": "d2d74d20",
   "metadata": {},
   "source": [
    "6. After running the following code, what does the variable bacon contain?\n",
    "bacon = 22\n",
    "bacon + 1\n",
    "\n",
    "Ans - 23 "
   ]
  },
  {
   "cell_type": "markdown",
   "id": "7f352115",
   "metadata": {},
   "source": [
    "7. What should the values of the following two terms be?\n",
    "'spam' + 'spamspam'\n",
    "'spam' * 3\n",
    "\n",
    "Ans \n",
    "\n",
    "'spam' + 'spamspam'\n",
    "\n",
    "output-'spamspamspam'\n",
    "\n",
    "'spam' * 3   \n",
    "\n",
    "output- 'spamspamspam'\n",
    "     "
   ]
  },
  {
   "cell_type": "markdown",
   "id": "ba41e31b",
   "metadata": {},
   "source": [
    "8. Why is eggs a valid variable name while 100 is invalid?\n",
    "\n",
    "\n",
    "Ans -\n",
    "\n",
    "Because it is rule that variable can not start with a digit. A variable name can only contain alphanumeric characters and underscores,Variable names are case sensitive."
   ]
  },
  {
   "cell_type": "markdown",
   "id": "a81cfe3c",
   "metadata": {},
   "source": [
    "9. What three functions can be used to get the integer, floating-point number, or string version of a value?\n",
    "\n",
    "Ans \n",
    "\n",
    "1. integer- int() \n",
    "\n",
    "2. floating-point number - float() \n",
    "\n",
    "3. string - str( )"
   ]
  },
  {
   "cell_type": "markdown",
   "id": "9f9b4ad0",
   "metadata": {},
   "source": [
    " 10. Why does this expression cause an error? How can you fix it?\n",
    "'I have eaten ' + 99 + ' burritos.'\n",
    "\n",
    "Ans\n",
    "\n",
    "\n",
    "Because we only can concatenate string to string , not integer to string, if we want to concatenate this expression\n",
    "then we have to convert integer to string first "
   ]
  },
  {
   "cell_type": "code",
   "execution_count": null,
   "id": "1036f2fc",
   "metadata": {},
   "outputs": [],
   "source": []
  }
 ],
 "metadata": {
  "kernelspec": {
   "display_name": "Python 3 (ipykernel)",
   "language": "python",
   "name": "python3"
  },
  "language_info": {
   "codemirror_mode": {
    "name": "ipython",
    "version": 3
   },
   "file_extension": ".py",
   "mimetype": "text/x-python",
   "name": "python",
   "nbconvert_exporter": "python",
   "pygments_lexer": "ipython3",
   "version": "3.9.7"
  }
 },
 "nbformat": 4,
 "nbformat_minor": 5
}
