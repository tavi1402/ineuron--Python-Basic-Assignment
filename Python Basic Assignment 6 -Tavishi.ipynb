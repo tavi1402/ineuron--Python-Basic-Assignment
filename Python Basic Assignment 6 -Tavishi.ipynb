{
 "cells": [
  {
   "cell_type": "markdown",
   "id": "5f6c549e",
   "metadata": {},
   "source": [
    "### 1.What are Escape characters ? and how do you use them ?\n",
    "Ans:\n",
    "- Escape characters represent characters in string values that would otherwise be difficult or impossible to type into code.\n",
    "- To insert characters that are illegal in a string, use an escape character.\n",
    "- An example of an illegal character is a double quote inside a string that is surrounded by double quotes:\n",
    "```\n",
    "Example:\n",
    "“\\t” is a tab, \n",
    "“\\n” is a new line, \n",
    "“\\r” is a carriage return. \n",
    "“ ” can be used to escape itself: “\\” is the literal backslash character\n",
    "```\n",
    "\n",
    "- An escape character is a backslash \\ followed by the character you want to insert.\n",
    "- It is used in representing certain whitespace characters:\n"
   ]
  },
  {
   "cell_type": "markdown",
   "id": "0fc9f5a1",
   "metadata": {},
   "source": [
    "### 2.What do the escape characters n and t stand for ?\n",
    "\n",
    "Ans: \n",
    "- \\n is a newline\n",
    "- \\t is a tab"
   ]
  },
  {
   "cell_type": "markdown",
   "id": "6b0e78c4",
   "metadata": {},
   "source": [
    "### 3.What is the way to include backslash character in a string?\n",
    "\n",
    "Ans: Use the syntax \"\\\\\" within the string literal to represent a single backslash."
   ]
  },
  {
   "cell_type": "markdown",
   "id": "ca0ac84c",
   "metadata": {},
   "source": [
    "### 4.The string \"Howl's Moving Castle\" is a correct value. Why isn't the single quote character in the word Howl's not escaped a problem ?\n",
    "\n",
    "Ans: \n",
    "- The string \"Howl's Moving Castle\" escaped the problem because it is wrapped inside double quotes. \n",
    "- If its wrapped inside single quotes then we have to use escape character \\' to show single quote in the final output.\n",
    "- 'Howl\\'s Moving Castle' -> 'Howl's Moving Castle'"
   ]
  },
  {
   "cell_type": "code",
   "execution_count": 47,
   "id": "40e2528a",
   "metadata": {},
   "outputs": [
    {
     "name": "stdout",
     "output_type": "stream",
     "text": [
      "Howl's Moving Castle\n",
      "Howl's Moving Castle\n"
     ]
    }
   ],
   "source": [
    "print(\"Howl's Moving Castle\")\n",
    "print('Howl\\'s Moving Castle')"
   ]
  },
  {
   "cell_type": "markdown",
   "id": "e7c2fa98",
   "metadata": {},
   "source": [
    "### 5.How do you write a string of newlines if you don't want to use the n character?\n",
    "\n",
    "Ans: Multiline string allow you to use newlines in string without the \\n escape character.\n",
    "- It is made of two characters:\n",
    "```\n",
    "\\n\n",
    "A backslash.\n",
    "The letter n.\n",
    "If you see this character in a string, that means that the current line ends at that point and a new line starts right after it\n",
    "```\n",
    "\n"
   ]
  },
  {
   "cell_type": "code",
   "execution_count": 48,
   "id": "e8572117",
   "metadata": {},
   "outputs": [
    {
     "name": "stdout",
     "output_type": "stream",
     "text": [
      "ved is in INDIAN AIRFORCE,\n",
      "He is FIGHTER PILOT \n"
     ]
    }
   ],
   "source": [
    "a = '''ved is in INDIAN AIRFORCE,\n",
    "He is FIGHTER PILOT '''\n",
    "print(a)"
   ]
  },
  {
   "cell_type": "markdown",
   "id": "d6b4a20c",
   "metadata": {},
   "source": [
    "### 6.What are the values of the given expressions ?\n",
    "\n",
    "'Hello, world!'[1]\n",
    "'Hello, world!'[0:5]\n",
    "'Hello, world!'[:5]\n",
    "'Hello, world!'[3:]\n",
    "\n",
    "Ans:\n",
    "```\n",
    "The values for the given expressions are:\n",
    "'Hello, world!'[1] ->  'e'\n",
    "'Hello, world!'[0:5] ->  'Hello'\n",
    "'Hello, world!'[:5] ->  'Hello'\n",
    "'Hello, world!'[3:] ->  'lo, world!'  \n",
    "```\n",
    "    "
   ]
  },
  {
   "cell_type": "code",
   "execution_count": 49,
   "id": "231069d0",
   "metadata": {},
   "outputs": [
    {
     "name": "stdout",
     "output_type": "stream",
     "text": [
      "e\n",
      "Hello\n",
      "Hello\n",
      "lo, world!\n"
     ]
    }
   ],
   "source": [
    "print('Hello, world!'[1])\n",
    "print('Hello, world!'[0:5])\n",
    "print('Hello, world!'[:5])\n",
    "print('Hello, world!'[3:])"
   ]
  },
  {
   "cell_type": "markdown",
   "id": "6a7dc2ec",
   "metadata": {},
   "source": [
    "### 7.What are the values of the following expressions ?\n",
    "\n",
    "- 'Hello'.upper()\n",
    "- 'Hello'.upper().isupper()\n",
    "- 'Hello'.upper().lower()\n",
    "\n",
    "Ans:\n",
    "```\n",
    "The values for the given expressions are:\n",
    "'Hello'.upper() -> 'HELLO'\n",
    "'Hello'.upper().isupper() ->  True\n",
    "'Hello'.upper().lower() -> 'hello'\n",
    "```"
   ]
  },
  {
   "cell_type": "code",
   "execution_count": 50,
   "id": "611653b7",
   "metadata": {},
   "outputs": [
    {
     "name": "stdout",
     "output_type": "stream",
     "text": [
      "HELLO\n",
      "True\n",
      "hello\n"
     ]
    }
   ],
   "source": [
    "print('Hello'.upper())\n",
    "print('Hello'.upper().isupper())\n",
    "print('Hello'.upper().lower())\n",
    "\n"
   ]
  },
  {
   "cell_type": "markdown",
   "id": "24c9f67c",
   "metadata": {},
   "source": [
    "### 8.What are the values of the following expressions ?\n",
    "\n",
    "- 'Remember, remember, the fifith of July.'.split()\n",
    "- '-'.join('There can only one'.split())\n",
    "\n",
    "Ans: The values for the given expressions are:\n",
    "```\n",
    "'Remember, remember, the fifith of July.'.split()  -> ['Remember,', 'remember,', 'the', 'fifith', 'of', 'July.']\n",
    "\n",
    "'-'.join('There can only one'.split()) -> 'There-can-only-one'\n",
    "\n",
    "```"
   ]
  },
  {
   "cell_type": "code",
   "execution_count": 16,
   "id": "b3fc5ed1",
   "metadata": {},
   "outputs": [
    {
     "name": "stdout",
     "output_type": "stream",
     "text": [
      "['Remember', ' remember', ' the fifith of July.']\n"
     ]
    }
   ],
   "source": [
    "print('Remember, remember, the fifith of July.'.split(''))"
   ]
  },
  {
   "cell_type": "code",
   "execution_count": 17,
   "id": "ff34563e",
   "metadata": {},
   "outputs": [
    {
     "name": "stdout",
     "output_type": "stream",
     "text": [
      "There-can-only-one\n"
     ]
    }
   ],
   "source": [
    "print('-'.join('There can only one'.split()))"
   ]
  },
  {
   "cell_type": "markdown",
   "id": "3c77fac1",
   "metadata": {},
   "source": [
    "### 9.What are the methods for right-justifying, left-justifying and centering a string ?\n",
    "\n",
    "Ans: \n",
    "```\n",
    "right-justifying---->rjust(),\n",
    "left-justifying----->ljust(),\n",
    "centering a string----->center() string methods.\n",
    "```"
   ]
  },
  {
   "cell_type": "markdown",
   "id": "544c0b89",
   "metadata": {},
   "source": [
    "#### example of right-justifying----> (rjust())"
   ]
  },
  {
   "cell_type": "code",
   "execution_count": 28,
   "id": "1680c84d",
   "metadata": {},
   "outputs": [
    {
     "name": "stdout",
     "output_type": "stream",
     "text": [
      "***************I LOVE AIRFORCE\n"
     ]
    }
   ],
   "source": [
    "# example of rjust string\n",
    "string = 'I LOVE AIRFORCE'\n",
    "\n",
    "# print right justified string\n",
    "print(string.rjust(30, '*'))"
   ]
  },
  {
   "cell_type": "markdown",
   "id": "8b66e748",
   "metadata": {},
   "source": [
    "#### example of left-justifying--->ljust()"
   ]
  },
  {
   "cell_type": "code",
   "execution_count": 29,
   "id": "71694256",
   "metadata": {},
   "outputs": [
    {
     "name": "stdout",
     "output_type": "stream",
     "text": [
      "I LOVE AIRFORCE***************\n"
     ]
    }
   ],
   "source": [
    "string = 'I LOVE AIRFORCE'\n",
    "\n",
    "# print right justified string\n",
    "print(string.ljust(30, '*'))"
   ]
  },
  {
   "cell_type": "markdown",
   "id": "073a1c19",
   "metadata": {},
   "source": [
    "#### example of centering a string--->center()"
   ]
  },
  {
   "cell_type": "code",
   "execution_count": 32,
   "id": "550c37d2",
   "metadata": {},
   "outputs": [
    {
     "name": "stdout",
     "output_type": "stream",
     "text": [
      "*******I LOVE AIRFORCE********\n"
     ]
    }
   ],
   "source": [
    "string = 'I LOVE AIRFORCE'\n",
    "\n",
    "# print right justified string\n",
    "print(string.center(30, '*'))"
   ]
  },
  {
   "cell_type": "markdown",
   "id": "6c0256a4",
   "metadata": {},
   "source": [
    "### 10.What is the best way to remove whitespace characters from the start or end ?\n",
    "\n",
    "Ans:\n",
    "- lstrip()- methods remove whitesapce characters from the start of a string.\n",
    "- rstrip()-methods remove whitesapce characters from the ends of a string "
   ]
  },
  {
   "cell_type": "markdown",
   "id": "a65d69f0",
   "metadata": {},
   "source": [
    "#### example of lstrip()"
   ]
  },
  {
   "cell_type": "code",
   "execution_count": 43,
   "id": "7c8042e7",
   "metadata": {},
   "outputs": [
    {
     "data": {
      "text/plain": [
       "'I LOVE AIRFORCE       '"
      ]
     },
     "execution_count": 43,
     "metadata": {},
     "output_type": "execute_result"
    }
   ],
   "source": [
    "string = \"      I LOVE AIRFORCE       \"\n",
    "\n",
    "string.lstrip()\n",
    "\n"
   ]
  },
  {
   "cell_type": "code",
   "execution_count": 45,
   "id": "2b9f2eaa",
   "metadata": {},
   "outputs": [],
   "source": [
    "#### exaple of rstrip"
   ]
  },
  {
   "cell_type": "code",
   "execution_count": 46,
   "id": "85a0a1b7",
   "metadata": {},
   "outputs": [
    {
     "data": {
      "text/plain": [
       "'      I LOVE AIRFORCE'"
      ]
     },
     "execution_count": 46,
     "metadata": {},
     "output_type": "execute_result"
    }
   ],
   "source": [
    "string = \"      I LOVE AIRFORCE       \"\n",
    "\n",
    "string.rstrip()"
   ]
  }
 ],
 "metadata": {
  "kernelspec": {
   "display_name": "Python 3 (ipykernel)",
   "language": "python",
   "name": "python3"
  },
  "language_info": {
   "codemirror_mode": {
    "name": "ipython",
    "version": 3
   },
   "file_extension": ".py",
   "mimetype": "text/x-python",
   "name": "python",
   "nbconvert_exporter": "python",
   "pygments_lexer": "ipython3",
   "version": "3.9.12"
  }
 },
 "nbformat": 4,
 "nbformat_minor": 5
}
