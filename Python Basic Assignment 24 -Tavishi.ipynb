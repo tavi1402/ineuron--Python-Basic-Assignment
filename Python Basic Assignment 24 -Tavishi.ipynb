{
 "cells": [
  {
   "cell_type": "markdown",
   "id": "liberal-account",
   "metadata": {},
   "source": [
    "## 1. What is the relationship between def statements and lambda expressions ?\n",
    "### Ans- \n",
    "- As an expression, lambda returns a value that can optionally be assigned a name. In contrast, the def statement always assigns the new function to the name in the header, instead of returning is as a result. lambda's body is a single expression, not a block of statements\n",
    "\n",
    "    "
   ]
  },
  {
   "cell_type": "markdown",
   "id": "sharing-council",
   "metadata": {},
   "source": [
    "## 2. What is the benefit of lambda?\n",
    "\n",
    "### Ans \n",
    "- The lambda keyword in Python provides a shortcut for declaring small anonymous functions. Lambda functions behave just like regular functions declared with the def keyword. They can be used whenever function objects are required.\n",
    "\n",
    "    \n"
   ]
  },
  {
   "cell_type": "markdown",
   "id": "acute-talent",
   "metadata": {},
   "source": [
    "## 3. Compare and contrast map, filter, and reduce.\n",
    "\n",
    "### Ans \n",
    "    \n",
    "-  Map operation- takes a mapping function and a vector of data as arguments and returns a new vector, which is the result of applying the mapping function on each element of the vector independently. The returned value from map() (map object) then can be passed to functions like list() (to create a list), set() (to create a set) and so on.\n",
    "    \n",
    "- The filter function - operates on a list and returns a subset of that list after applying the filtering rule.\n",
    "    \n",
    "- The reduce function - will transform a given list into a single value by applying a given function continuously to all the elements. It basically keeps operating on pairs of elements until there are no more elements left.\n",
    "\n",
    "    \n"
   ]
  },
  {
   "cell_type": "markdown",
   "id": "outdoor-setup",
   "metadata": {},
   "source": [
    "### 4.What are function annotations, and how are they used?\n",
    "\n",
    "Ans - \n",
    "- Function annotations are completely optional both for parameters and return value. Function annotations provide a way of associating various parts of a function with arbitrary python expressions at compile time.\n",
    "    \n",
    "- Syntax of function annotations for simple parameters and for excess parameters respectively:\n",
    "\n",
    "> def foobar(a: expression, b: expression = 5):\n",
    "    \n",
    "> def foobar(*args: expression, *kwargs: expression):\n",
    "    "
   ]
  },
  {
   "cell_type": "markdown",
   "id": "caring-viewer",
   "metadata": {},
   "source": [
    "## 5.  What are recursive functions, and how are they used?\n",
    "\n",
    "### Ans\n",
    "    \n",
    "- A recursive function is a function defined in terms of itself via self-referential expressions. This means that the function will continue to call itself and repeat its behavior until some condition is met to return a result.\n",
    "\n",
    "- In this example, recursion_() is a function that we have defined to call itself (\"recurse\"). We use the k variable as the data, which decrements (-1) every time we recurse. The recursion ends when the condition is not greater than 0 (i.e. when it is 0).\n",
    "    \n"
   ]
  },
  {
   "cell_type": "code",
   "execution_count": 1,
   "id": "efd839d8",
   "metadata": {},
   "outputs": [
    {
     "name": "stdout",
     "output_type": "stream",
     "text": [
      "Recursion Example Results\n",
      "1\n",
      "3\n",
      "6\n",
      "10\n",
      "15\n",
      "21\n",
      "28\n",
      "36\n",
      "45\n"
     ]
    },
    {
     "data": {
      "text/plain": [
       "45"
      ]
     },
     "execution_count": 1,
     "metadata": {},
     "output_type": "execute_result"
    }
   ],
   "source": [
    "def recursion_(k):\n",
    "  if(k>0):\n",
    "    result = k+recursion_(k-1)\n",
    "    print(result)\n",
    "  else:\n",
    "    result = 0\n",
    "  return result\n",
    "\n",
    "print(\"Recursion Example Results\")\n",
    "recursion_(9)"
   ]
  },
  {
   "cell_type": "markdown",
   "id": "complimentary-cabinet",
   "metadata": {},
   "source": [
    "## 6. What are some general design guidelines for coding functions?\n",
    "\n",
    "### Ans\n",
    "    \n",
    "- Use 4-space indentation and no tabs.\n",
    "    \n",
    "- Use docstrings\n",
    "    \n",
    "- Wrap lines so that they don’t exceed 79 characters \n",
    "    \n",
    "- Use of regular and updated comments are valuable to both the coders and users\n",
    "\n"
   ]
  },
  {
   "cell_type": "markdown",
   "id": "special-graduation",
   "metadata": {},
   "source": [
    "## 7.Name three or more ways that functions can communicate results to a caller.\n",
    "\n",
    "### Ans-\n",
    "    \n",
    "- To call a function, we specify the function name with the round brackets.\n",
    "\n",
    "- Use of return keyword inside function which returns the results to the caller.\n",
    " \n",
    "- Use of print statement inside function which prints the results to the caller.\n",
    "\n"
   ]
  }
 ],
 "metadata": {
  "kernelspec": {
   "display_name": "Python 3 (ipykernel)",
   "language": "python",
   "name": "python3"
  },
  "language_info": {
   "codemirror_mode": {
    "name": "ipython",
    "version": 3
   },
   "file_extension": ".py",
   "mimetype": "text/x-python",
   "name": "python",
   "nbconvert_exporter": "python",
   "pygments_lexer": "ipython3",
   "version": "3.9.12"
  },
  "toc": {
   "base_numbering": 1,
   "nav_menu": {},
   "number_sections": true,
   "sideBar": true,
   "skip_h1_title": false,
   "title_cell": "Table of Contents",
   "title_sidebar": "Contents",
   "toc_cell": false,
   "toc_position": {},
   "toc_section_display": true,
   "toc_window_display": false
  }
 },
 "nbformat": 4,
 "nbformat_minor": 5
}
