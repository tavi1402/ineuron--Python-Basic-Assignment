{
 "cells": [
  {
   "cell_type": "markdown",
   "id": "a6d92b7b",
   "metadata": {},
   "source": [
    "1.What are the two values of the Boolean data type? How do you write them?\n",
    "\n",
    "Ans \n",
    "\n",
    "1. True\n",
    "2. False"
   ]
  },
  {
   "cell_type": "markdown",
   "id": "41b48a63",
   "metadata": {},
   "source": [
    "2. What are the three different types of Boolean operators?\n",
    "\n",
    "Ans \n",
    "\n",
    "1. AND\n",
    "2. OR\n",
    "3. NOT"
   ]
  },
  {
   "cell_type": "markdown",
   "id": "7ad7ec90",
   "metadata": {},
   "source": [
    "3. Make a list of each Boolean operator's truth tables (i.e. every possible combination of Boolean\n",
    "values for the operator and what it evaluate ).\n",
    "\n",
    "ANS \n",
    "\n",
    "\n",
    "AND TABLE -\n",
    "\n",
    "P\t     Q\t   P AND Q\n",
    "True\tTrue\tTrue\n",
    "True\tFALSE\tFalse \n",
    "False \tFalse \tFalse \n",
    "False \tFalse \tFalse \n",
    "\n",
    "\n",
    "\n",
    "OR TABLE\n",
    "\n",
    "\n",
    "\n",
    "P\t     Q\t    P OR Q\n",
    "True\tTrue    True\n",
    "True\tFalse \tTrue\n",
    "False \tTrue\tTrue\n",
    "False   False   False \n",
    "\n",
    "\n",
    "\n",
    "\n",
    "NOT TABLE\n",
    "\n",
    "\n",
    "P       NOT\n",
    "True   False \n",
    "False  True\n",
    "\n",
    "\n",
    "\n"
   ]
  },
  {
   "cell_type": "markdown",
   "id": "b851075a",
   "metadata": {},
   "source": [
    "4. What are the values of the following expressions?\n",
    "(5 > 4) and (3 == 5)\n",
    "not (5 > 4)\n",
    "(5 > 4) or (3 == 5)\n",
    "not ((5 > 4) or (3 == 5))\n",
    "(True and True) and (True == False)\n",
    "(not False) or (not True)\n",
    "\n",
    "\n",
    "Ans\n",
    "\n",
    "\n",
    "(5 > 4) and (3 == 5)                            False\n",
    "   \n",
    "not (5 > 4)                                     False\n",
    "\n",
    "(5 > 4) or (3 == 5)                             True\n",
    "\n",
    "not ((5 > 4) or (3 == 5))                       False\n",
    "\n",
    "(True and True) and (True == False)             False\n",
    "\n",
    "(not False) or (not True)                       True\n",
    "\n",
    "\n"
   ]
  },
  {
   "cell_type": "code",
   "execution_count": null,
   "id": "5deb4986",
   "metadata": {},
   "outputs": [],
   "source": [
    "5. What are the six comparison operators?\n",
    "\n",
    "Ans\n",
    "\n",
    "1. equal to ==  \n",
    "2. not equal to !=\n",
    "3. greater than >\n",
    "4. greater than equal to>=\n",
    "5. less than <\n",
    "6. less than equal to\n"
   ]
  },
  {
   "cell_type": "markdown",
   "id": "85b9480e",
   "metadata": {},
   "source": [
    "6. How do you tell the difference between the equal to and assignment operators?Describe a condition and when you would use one.\n",
    "\n",
    "Ans- \n",
    "\n",
    "1. (=)assiginment operator   \n",
    "\n",
    "example \n",
    "\n",
    "value = int(96754)\n",
    "value =\"flight\"\n",
    "\n",
    "Here value is a variable (container) and 9 is the value stored in it.\n",
    "\n",
    "\n",
    "\n",
    "2. ==(equal) The '==' operator checks whether the two given operands are equal or not.\n",
    "\n",
    "example \n",
    "\n",
    "a=6\n",
    "b=9\n",
    "a==b\n",
    "\n",
    "if condition is true it returns true, Otherwise it returns false.\n",
    "\n"
   ]
  },
  {
   "cell_type": "markdown",
   "id": "2f17bb29",
   "metadata": {},
   "source": [
    "7. Identify the three blocks in this code:\n",
    "spam = 0\n",
    "if spam == 10:\n",
    "    print(\"eggs\")\n",
    "if spam > 5:\n",
    "    print('bacon&')\n",
    "else:\n",
    "    print('ham')\n",
    "    print('spam')\n",
    "    print('spam')\n",
    "\n",
    "Ans \n",
    "\n",
    "Block1- if spam == 10:\n",
    "\n",
    "Block2- if spam > 5:\n",
    "    \n",
    "Block3- else:   \n",
    "        \n",
    "    \n",
    "    \n",
    "    \n",
    "    "
   ]
  },
  {
   "cell_type": "markdown",
   "id": "ef344dce",
   "metadata": {},
   "source": [
    "8. Write code that prints Hello if 1 is stored in spam, prints Howdy if 2 is stored in spam, and prints\n",
    "Greetings! if anything else is stored in spam.\n",
    "spam=2\n",
    "if spam==1:\n",
    "    print(\"Hello\")\n",
    "if spam==2:\n",
    "    print(\"Hello\")\n",
    "else:\n",
    "    (Greetings)\n"
   ]
  },
  {
   "cell_type": "markdown",
   "id": "2c0f2803",
   "metadata": {},
   "source": [
    "9.If your programme is stuck in an endless loop, what keys you’ll press?\n",
    "\n",
    "Ans \n",
    "\n",
    "CTRL+C"
   ]
  },
  {
   "cell_type": "markdown",
   "id": "48fec5de",
   "metadata": {},
   "source": [
    "10. How can you tell the difference between break and continue?\n",
    "\n",
    "\n",
    "Ans The break statement is used to terminate the loop immediately and passes the control over the next loop or main body.\n",
    "The continue statement is used to skip the current iteration of the loop."
   ]
  },
  {
   "cell_type": "code",
   "execution_count": null,
   "id": "923f9a66",
   "metadata": {},
   "outputs": [],
   "source": [
    "11. In a for loop, what is the difference between range(10), range(0, 10), and range(0, 10, 1)?\n",
    "\n",
    "Ans \n",
    "range(10), range(0, 10), and range(0, 10, 1)\n",
    "\n",
    "there is no differnence all have same meaning that is range starts from 0 and end at 9 (0 to 9)\n",
    "\n",
    "range([start], stop[, step])\n",
    "\n",
    "start =1\n",
    "stop= 10-1\n",
    "step= 1\n",
    "\n",
    "\n"
   ]
  },
  {
   "cell_type": "markdown",
   "id": "dc309677",
   "metadata": {},
   "source": [
    "12. Write a short program that prints the numbers 1 to 10 using a for loop. Then write an equivalent\n",
    "program that prints the numbers 1 to 10 using a while loop.\n",
    "\n",
    "1. for loop\n",
    "\n",
    "for i in range(0,11):\n",
    "    print(i)\n",
    "\n",
    "\n",
    "    \n",
    "2. while loop\n",
    "\n",
    "\n",
    "i=10\n",
    "while i<=10:\n",
    "    print(i)\n",
    "    i+=1"
   ]
  },
  {
   "cell_type": "markdown",
   "id": "6a201ba0",
   "metadata": {},
   "source": [
    "13. If you had a function named bacon() inside a module named spam, how would you call it after\n",
    "importing spam?\n",
    "\n",
    "Ans- spam.bacon()"
   ]
  }
 ],
 "metadata": {
  "kernelspec": {
   "display_name": "Python 3 (ipykernel)",
   "language": "python",
   "name": "python3"
  },
  "language_info": {
   "codemirror_mode": {
    "name": "ipython",
    "version": 3
   },
   "file_extension": ".py",
   "mimetype": "text/x-python",
   "name": "python",
   "nbconvert_exporter": "python",
   "pygments_lexer": "ipython3",
   "version": "3.9.7"
  }
 },
 "nbformat": 4,
 "nbformat_minor": 5
}
